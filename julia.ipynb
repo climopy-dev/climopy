{
 "cells": [
  {
   "cell_type": "markdown",
   "metadata": {},
   "source": [
    "# Julia practice"
   ]
  },
  {
   "cell_type": "code",
   "execution_count": 3,
   "metadata": {},
   "outputs": [
    {
     "data": {
      "text/plain": [
       "1×3 Array{Int64,2}:\n",
       " 1  2  3"
      ]
     },
     "execution_count": 3,
     "metadata": {},
     "output_type": "execute_result"
    }
   ],
   "source": [
    "array = [ 1 2 3 ]"
   ]
  },
  {
   "cell_type": "markdown",
   "metadata": {},
   "source": [
    "# Function"
   ]
  },
  {
   "cell_type": "code",
   "execution_count": 4,
   "metadata": {},
   "outputs": [
    {
     "name": "stdout",
     "output_type": "stream",
     "text": [
      "volume = 113.097\n",
      "result 1: 3.0\n",
      "result 2: -2.0\n"
     ]
    }
   ],
   "source": [
    "# function to calculate the volume of a sphere\n",
    "function sphere_vol(r)\n",
    "  # julia allows Unicode names (in UTF-8 encoding)\n",
    "  # so either \"pi\" or the symbol π can be used\n",
    "  return 4/3*pi*r^3\n",
    "end\n",
    "\n",
    "# functions can also be defined more succinctly\n",
    "quadratic(a, sqr_term, b) = (-b + sqr_term) / 2a\n",
    "\n",
    "# calculates x for 0 = a*x^2+b*x+c, arguments types can be defined in function definitions\n",
    "function quadratic2(a::Float64, b::Float64, c::Float64)\n",
    "  # unlike other languages 2a is equivalent to 2*a\n",
    "  # a^2 is used instead of a**2 or pow(a,2)\n",
    "  sqr_term = sqrt(b^2-4a*c)\n",
    "  r1 = quadratic(a, sqr_term, b)\n",
    "  r2 = quadratic(a, -sqr_term, b)\n",
    "  # multiple values can be returned from a function using tuples\n",
    "  # if the return keyword is omitted, the last term is returned\n",
    "  r1, r2\n",
    "end\n",
    "\n",
    "vol = sphere_vol(3)\n",
    "#  allows number formatting but does not automatically append the \\n to statements, see below\n",
    " \"volume = %0.3f\\n\" vol \n",
    "#> volume = 113.097\n",
    "\n",
    "quad1, quad2 = quadratic2(2.0, -2.0, -12.0)\n",
    "println(\"result 1: \", quad1)\n",
    "#> result 1: 3.0\n",
    "println(\"result 2: \", quad2)\n",
    "#> result 2: -2."
   ]
  },
  {
   "cell_type": "markdown",
   "metadata": {},
   "source": [
    "# Strings"
   ]
  },
  {
   "cell_type": "code",
   "execution_count": 5,
   "metadata": {},
   "outputs": [
    {
     "name": "stdout",
     "output_type": "stream",
     "text": [
      "The quick brown fox jumps over the lazy dog α,β,γ\n",
      "this and that.\n",
      "a\n",
      "a ascii value = 97\n",
      "Int('α') == 945\n",
      "false\n",
      "THE QUICK BROWN FOX JUMPS OVER THE LAZY DOG Α,Β,Γ\n",
      "the quick brown fox jumps over the lazy dog α,β,γ\n",
      "'b'\n",
      "\"The quick \"\n",
      "\"dog α,β,γ\"\n",
      "wolcome to julia.\n",
      "1 + 2 = 3\n",
      "this and that\n",
      "this and that\n"
     ]
    }
   ],
   "source": [
    "# strings are defined with double quotes\n",
    "# like variables, strings can contain any unicode character\n",
    "s1 = \"The quick brown fox jumps over the lazy dog α,β,γ\"\n",
    "println(s1)\n",
    "#> The quick brown fox jumps over the lazy dog α,β,γ\n",
    "\n",
    "# println adds a new line to the end of output\n",
    "# print can be used if you dont want that:\n",
    "print(\"this\")\n",
    "#> this\n",
    "print(\" and\")\n",
    "#> and\n",
    "print(\" that.\\n\")\n",
    "#> that.\n",
    "\n",
    "# chars are defined with single quotes\n",
    "c1 = 'a'\n",
    "println(c1)\n",
    "#> a\n",
    "# the ascii value of a char can be found with Int():\n",
    "println(c1, \" ascii value = \", Int(c1))\n",
    "#> a ascii value = 97\n",
    "println(\"Int('α') == \", Int('α'))\n",
    "#> Int('α') == 945\n",
    "\n",
    "# so be aware that\n",
    "println(Int('1') == 1)\n",
    "#> false\n",
    "\n",
    "# strings can be converted to upper case or lower case:\n",
    "s1_caps = uppercase(s1)\n",
    "s1_lower = lowercase(s1)\n",
    "println(s1_caps, \"\\n\", s1_lower)\n",
    "#> THE QUICK BROWN FOX JUMPS OVER THE LAZY DOG Α,Β,Γ\n",
    "#> the quick brown fox jumps over the lazy dog α,β,γ\n",
    "\n",
    "# sub strings can be indexed like arrays:\n",
    "# (show prints the raw value)\n",
    "show(s1[11]); println()\n",
    "#> 'b'\n",
    "\n",
    "# or sub strings can be created:\n",
    "show(s1[1:10]); println()\n",
    "#> \"The quick \"\n",
    "\n",
    "# end is used for the end of the array or string\n",
    "show(s1[end-10:end]); println()\n",
    "#> \"dog α,β,γ\"\n",
    "\n",
    "# julia allows string Interpolation:\n",
    "a = \"wolcome\"\n",
    "b = \"julia\"\n",
    "println(\"$a to $b.\")\n",
    "#> wolcome to julia.\n",
    "\n",
    "# this can extend to evaluate statements:\n",
    "println(\"1 + 2 = $(1 + 2)\")\n",
    "#> 1 + 2 = 3\n",
    "\n",
    "# strings can also be concatenated using the * operator\n",
    "# using * instead of + isn't intuitive when you start with Julia,\n",
    "# however people think it makes more sense\n",
    "s2 = \"this\" * \" and\" * \" that\"\n",
    "println(s2)\n",
    "#> this and that\n",
    "\n",
    "# as well as the string function\n",
    "s3 = string(\"this\", \" and\", \" that\")\n",
    "println(s3)\n",
    "#> this and that"
   ]
  },
  {
   "cell_type": "code",
   "execution_count": 6,
   "metadata": {},
   "outputs": [
    {
     "name": "stdout",
     "output_type": "stream",
     "text": [
      "13.59\n",
      "45\n",
      "e = 2.72\n",
      "e_str1 == e_str2: true\n",
      "fix trailing precision: 3.142\n",
      "scientific form: 3.141593e+03\n",
      "a character: α\n",
      "a string: look I'm a string!\n",
      "right justify a string:                    width 50, text right justified!\n",
      "a pointer: 0x0000000005f5e100\n",
      "print a integer: 10000000000\n"
     ]
    }
   ],
   "source": [
    "# strings can be converted using float and int:\n",
    "e_str1 = \"2.718\"\n",
    "e = float(e_str1)\n",
    "println(5e)\n",
    "#> 13.5914\n",
    "num_15 = parse(Int, \"15\")\n",
    "println(3num_15)\n",
    "#> 45\n",
    "\n",
    "# numbers can be converted to strings and formatted using printf\n",
    " \"e = %0.2f\\n\" e\n",
    "#> 2.718\n",
    "# or to create another string sprintf\n",
    "e_str2 = @sprintf(\"%0.3f\", e)\n",
    "\n",
    "# to show that the 2 strings are the same\n",
    "println(\"e_str1 == e_str2: $(e_str1 == e_str2)\")\n",
    "#> e_str1 == e_str2: true\n",
    "\n",
    "# available number format characters are f, e, g, c, s, p, d:\n",
    "# (pi is a predefined constant; however, since its type is \n",
    "# \"MathConst\" it has to be converted to a float to be formatted)\n",
    " \"fix trailing precision: %0.3f\\n\" float(pi)\n",
    "#> fix trailing precision: 3.142\n",
    " \"scientific form: %0.6e\\n\" 1000pi\n",
    "#> scientific form: 3.141593e+03\n",
    "# g is not implemented yet\n",
    " \"a character: %c\\n\" 'α'\n",
    "#> a character: α\n",
    " \"a string: %s\\n\" \"look I'm a string!\"\n",
    "#> a string: look I'm a string!\n",
    " \"right justify a string: %50s\\n\" \"width 50, text right justified!\"\n",
    "#> right justify a string:                    width 50, text right justified!\n",
    " \"a pointer: %p\\n\" 100000000\n",
    "#> a pointer: 0x0000000005f5e100\n",
    " \"print a integer: %d\\n\" 1e10\n",
    "#> print an integer: 10000000000 "
   ]
  },
  {
   "cell_type": "code",
   "execution_count": 7,
   "metadata": {},
   "outputs": [
    {
     "name": "stdout",
     "output_type": "stream",
     "text": [
      "11\n",
      "11:15\n",
      "\"The quick red fox jumps over the lazy dog α,β,γ\"\n",
      "11:15\n",
      "\"The quick red fox jumps over the lazy dog α,β,γ\"\n",
      "RegexMatch(\"brown\")\n",
      "\"brown\"\n",
      "SubString{String}[\"quick\", \"brown\", \"jumps\", \"over\", \"lazy\"]\n",
      "\"quick\" \"brown\" \"jumps\" \"over\" \"lazy\" \n",
      "\"hello hello hello \"\n",
      "\"hello\"\n",
      "\"ello\"\n",
      "SubString{String}[\"hello\", \" there\", \"bob\"]\n",
      "SubString{String}[\"hello\", \"there,bob\"]\n",
      "SubString{String}[\"hello\", \"there\", \"bob\"]\n",
      "1, 2, 3, 4, 5, 6, 7, 8, 9, 10\n"
     ]
    }
   ],
   "source": [
    "s1 = \"The quick brown fox jumps over the lazy dog α,β,γ\"\n",
    "\n",
    "# search returns the first index of a char\n",
    "i = search(s1, 'b')\n",
    "println(i)\n",
    "#> 11\n",
    "# the second argument is equivalent to the second argument of split, see below\n",
    "\n",
    "# or a range if called with another string\n",
    "r = search(s1, \"brown\")\n",
    "println(r)\n",
    "#> 11:15\n",
    "\n",
    "\n",
    "# string replace is done thus:\n",
    "r = replace(s1, \"brown\", \"red\")\n",
    "show(r); println()\n",
    "#> \"The quick red fox jumps over the lazy dog\"\n",
    "\n",
    "# search and replace can also take a regular expressions by preceding the string with 'r'\n",
    "r = search(s1, r\"b[\\w]*n\")\n",
    "println(r)\n",
    "#> 11:15\n",
    "\n",
    "# again with a regular expression\n",
    "r = replace(s1, r\"b[\\w]*n\", \"red\")\n",
    "show(r); println()\n",
    "#> \"The quick red fox jumps over the lazy dog\"\n",
    "\n",
    "# there are also functions for regular expressions that return RegexMatch types\n",
    "# match scans left to right for the first match (specified starting index optional)\n",
    "r = match(r\"b[\\w]*n\", s1)\n",
    "println(r)\n",
    "#> RegexMatch(\"brown\")\n",
    "\n",
    "# RegexMatch types have a property match that holds the matched string\n",
    "show(r.match); println()\n",
    "#> \"brown\"\n",
    "\n",
    "# matchall returns a vector with RegexMatches for each match\n",
    "r = matchall(r\"[\\w]{4,}\", s1)\n",
    "println(r)\n",
    "#> SubString{UTF8String}[\"quick\",\"brown\",\"jumps\",\"over\",\"lazy\"]\n",
    "\n",
    "# eachmatch returns an iterator over all the matches\n",
    "r = eachmatch(r\"[\\w]{4,}\", s1)\n",
    "for i in r print(\"\\\"$(i.match)\\\" \") end\n",
    "println()\n",
    "#> \"quick\" \"brown\" \"jumps\" \"over\" \"lazy\" \n",
    "\n",
    "# a string can be repeated using the repeat function, \n",
    "# or more succinctly with the ^ syntax:\n",
    "r = \"hello \"^3\n",
    "show(r); println() #> \"hello hello hello \"\n",
    "\n",
    "# the strip function works the same as python:\n",
    "# e.g., with one argument it strips the outer whitespace\n",
    "r = strip(\"hello \")\n",
    "show(r); println() #> \"hello\"\n",
    "# or with a second argument of an array of chars it strips any of them;\n",
    "r = strip(\"hello \", ['h', ' '])\n",
    "show(r); println() #> \"ello\"\n",
    "# (note the array is of chars and not strings)\n",
    "\n",
    "# similarly split works in basically the same way as python:\n",
    "r = split(\"hello, there,bob\", ',')\n",
    "show(r); println() #> [\"hello\",\" there\",\"bob\"]\n",
    "r = split(\"hello, there,bob\", \", \")\n",
    "show(r); println() #> [\"hello\",\"there,bob\"]\n",
    "r = split(\"hello, there,bob\", [',', ' '], limit=0, keep=false)\n",
    "show(r); println() #> [\"hello\",\"there\",\"bob\"]\n",
    "# (the last two arguements are limit and include_empty, see docs)\n",
    "\n",
    "# the opposite of split: join is simply\n",
    "r = join(collect(1:10), \", \")\n",
    "println(r) #> 1, 2, 3, 4, 5, 6, 7, 8, 9, 10\n"
   ]
  },
  {
   "cell_type": "markdown",
   "metadata": {},
   "source": [
    "# Arrays"
   ]
  },
  {
   "cell_type": "code",
   "execution_count": 8,
   "metadata": {},
   "outputs": [
    {
     "name": "stdout",
     "output_type": "stream",
     "text": [
      "3-element Array{Int64,1}: [1, 2, 3]\n",
      "0-element Array{Any,1}: Any[]\n",
      "0-element Array{Int64,1}: Int64[]\n",
      "20-element UnitRange{Int64}: 1:20\n",
      "20-element Array{Int64,1}: [1, 2, 3, 4, 5, 6, 7, 8, 9, 10, 11, 12, 13, 14, 15, 16, 17, 18, 19, 20]\n",
      "10-element Array{Int64,1}: [2, 4, 8, 16, 32, 64, 128, 256, 512, 1024]\n",
      "0-element Array{Array{Int64,1},1}: Array{Int64,1}[]\n",
      "4-element Array{Int64,1}: [1, 2, 3, 4]\n",
      "1-element Array{Int64,1}: [1]\n",
      "1-element Array{Array{Int64,1},1}: Array{Int64,1}[[1, 2, 3]]\n",
      "8-element Array{Int64,1}: [1, 1, 2, 2, 3, 3, 4, 4]\n",
      "8-element Array{Int64,1}: [4, 3, 2, 1, 4, 3, 2, 1]\n"
     ]
    }
   ],
   "source": [
    "function printsum(a)\n",
    "    # summary generates a summary of an object\n",
    "    println(summary(a), \": \", repr(a))\n",
    "end\n",
    "\n",
    "# arrays can be initialised directly:\n",
    "a1 = [1,2,3]\n",
    "printsum(a1)\n",
    "#> 3-element Array{Int64,1}: [1,2,3]\n",
    "\n",
    "# or initialised empty:\n",
    "a2 = []\n",
    "printsum(a2)\n",
    "#> 0-element Array{None,1}: None[]\n",
    "\n",
    "# since this array has no type, functions like push! (see below) don't work\n",
    "# instead arrays can be initialised with a type:\n",
    "a3 = Int64[]\n",
    "printsum(a3)\n",
    "#> 0-element Array{Int64,1}: []\n",
    "\n",
    "# ranges are different from arrays:\n",
    "a4 = 1:20\n",
    "printsum(a4)\n",
    "#> 20-element UnitRange{Int64}: 1:20\n",
    "\n",
    "# however they can be used to create arrays thus:\n",
    "a4 = collect(1:20)\n",
    "printsum(a4)\n",
    "#> 20-element Array{Int64,1}: [1,2,3,4,5,6,7,8,9,10,11,12,13,14,15,16,17,18,19,20]\n",
    "\n",
    "# arrays can also be generated from comprehensions:\n",
    "a5 = [2^i for i = 1:10]\n",
    "printsum(a5)\n",
    "#> 10-element Array{Int64,1}: [2,4,8,16,32,64,128,256,512,1024]\n",
    "\n",
    "# arrays can be any type, so arrays of arrays can be created:\n",
    "a6 = (Array{Int64, 1})[]\n",
    "printsum(a6)\n",
    "#> 0-element Array{Array{Int64,1},1}: []\n",
    "# (note this is a \"jagged array\" (i.e., an array of arrays), not a multidimensional array,\n",
    "# these are not covered here)\n",
    "\n",
    "# Julia provided a number of \"Dequeue\" functions, the most common for appending to the end of arrays\n",
    "# is push!\n",
    "# ! at the end of a function name indicates that the first argument is updated.\n",
    "\n",
    "push!(a1, 4)\n",
    "printsum(a1)\n",
    "#> 4-element Array{Int64,1}: [1,2,3,4]\n",
    "\n",
    "# push!(a2, 1) would cause error:\n",
    "\n",
    "push!(a3, 1)\n",
    "printsum(a3) #> 1-element Array{Int64,1}: [1]\n",
    "#> 1-element Array{Int64,1}: [1]\n",
    "\n",
    "push!(a6, [1,2,3])\n",
    "printsum(a6)\n",
    "#> 1-element Array{Array{Int64,1},1}: [[1,2,3]]\n",
    "\n",
    "# using repeat() to create arrays\n",
    "# you must use the keywords \"inner\" and \"outer\"\n",
    "# all arguments must be arrays (not ranges)\n",
    "a7 = repeat(a1,inner=[2],outer=[1])\n",
    "printsum(a7)\n",
    "#> 8-element Array{Int64,1}: [1,1,2,2,3,3,4,4]\n",
    "a8 = repeat(collect(4:-1:1),inner=[1],outer=[2])\n",
    "printsum(a8)\n",
    "#> 8-element Array{Int64,1}: [4,3,2,1,4,3,2,1]"
   ]
  },
  {
   "cell_type": "code",
   "execution_count": 9,
   "metadata": {
    "scrolled": false
   },
   "outputs": [
    {
     "name": "stdout",
     "output_type": "stream",
     "text": [
      "12×3 Array{Int64,2}: [1 1 1; 2 1 1; 1 2 1; 2 2 2; 1 3 2; 2 3 2; 1 1 3; 2 1 3; 1 2 3; 2 2 4; 1 3 4; 2 3 4]\n",
      "size: (12, 6)\n",
      "size: (24, 3)\n"
     ]
    },
    {
     "name": "stderr",
     "output_type": "stream",
     "text": [
      "\u001b[1m\u001b[36mINFO: \u001b[39m\u001b[22m\u001b[36mCloning cache of LegacyStrings from https://github.com/JuliaArchive/LegacyStrings.jl.git\n",
      "\u001b[39m\u001b[1m\u001b[36mINFO: \u001b[39m\u001b[22m\u001b[36mInstalling LegacyStrings v0.3.0\n",
      "\u001b[39m\u001b[1m\u001b[36mINFO: \u001b[39m\u001b[22m\u001b[36mPackage database updated\n",
      "\u001b[39m\u001b[1m\u001b[36mINFO: \u001b[39m\u001b[22m\u001b[36mMETADATA is out-of-date — you may not have the latest version of LegacyStrings\n",
      "\u001b[39m\u001b[1m\u001b[36mINFO: \u001b[39m\u001b[22m\u001b[36mUse `Pkg.update()` to get the latest versions of your packages\n",
      "\u001b[39m\u001b[1m\u001b[36mINFO: \u001b[39m\u001b[22m\u001b[36mPrecompiling module LegacyStrings.\n",
      "\u001b[39m"
     ]
    },
    {
     "name": "stdout",
     "output_type": "stream",
     "text": [
      "2×3×2 Array{LegacyStrings.ASCIIString,3}: LegacyStrings.ASCIIString[\"Hi Im element # 1\" \"Hi Im element # 3\" \"Hi Im element # 5\"; \"Hi Im element # 2\" \"Hi Im element # 4\" \"Hi Im element # 6\"]\n",
      "\n",
      "LegacyStrings.ASCIIString[\"Hi Im element # 7\" \"Hi Im element # 9\" \"Hi Im element # 11\"; \"Hi Im element # 8\" \"Hi Im element # 10\" \"Hi Im element # 12\"]\n",
      "2×3 Array{Int64,2}: [2 2 6; 6 3 6]\n",
      "InexactError()\n",
      "DimensionMismatch(\"tried to assign 3×2 array to 2×3×1 destination\")\n"
     ]
    }
   ],
   "source": [
    "# repeat can be useful to expand a grid\n",
    "# as in R's expand.grid() function:\n",
    "m1 = hcat(repeat([1,2],inner=[1],outer=[3*2]),\n",
    "          repeat([1,2,3],inner=[2],outer=[2]),\n",
    "          repeat([1,2,3,4],inner=[3],outer=[1]))\n",
    "printsum(m1)\n",
    "#> 12×3 Array{Int64,2}: [1 1 1; 2 1 1; 1 2 1; 2 2 2; 1 3 2; 2 3 2; 1 1 3; 2 1 3; 1 2 3; 2 2 4; 1 3 4; 2 3 4]\n",
    "\n",
    "# for simple repetitions of arrays,\n",
    "# use repmat\n",
    "m2 = repmat(m1,1,2)     # replicate a9 once into dim1 and twice into dim2\n",
    "println(\"size: \", size(m2))\n",
    "#> size: (12,6)\n",
    "\n",
    "m3 = repmat(m1,2,1)     # replicate a9 twice into dim1 and once into dim2\n",
    "println(\"size: \", size(m3))\n",
    "#> size: (24,3)\n",
    "\n",
    "# Julia comprehensions are another way to easily create\n",
    "# multidimensional arrays\n",
    "\n",
    "m4 = [i+j+k for i=1:2, j=1:3, k=1:2] # creates a 2x3x2 array of Int64\n",
    "m5 = [\"Hi Im # $(i+2*(j-1 + 3*(k-1)))\" for i=1:2, j=1:3, k=1:2]\n",
    "# expressions are very flexible\n",
    "# you can specify the type of the array by just\n",
    "# placing it in front of the expression\n",
    "Pkg.add(\"LegacyStrings\")\n",
    "import LegacyStrings\n",
    "m5 = LegacyStrings.ASCIIString[\"Hi Im element # $(i+2*(j-1 + 3*(k-1)))\" for i=1:2, j=1:3, k=1:2]\n",
    "printsum(m5)\n",
    "#> 2x3x2 Array{LegacyStrings.ASCIIString,3}: LegacyStrings.ASCIIString[\"Hi Im element # 7\"\n",
    "#> \"Hi Im element # 9\" \"Hi Im element # 11\"\n",
    "#>             \"Hi Im element # 8\" \"Hi Im element # 10\" \"Hi Im element # 12\"]\n",
    "#>\n",
    "#> LegacyStrings.ASCIIString[\"Hi Im element # 7\" \"Hi Im element # 9\" \"Hi Im element # 11\"\n",
    "#>             \"Hi Im element # 8\" \"Hi Im element # 10\" \"Hi Im element # 12\"]\n",
    "\n",
    "# Array reductions\n",
    "# many functions in Julia have an array method\n",
    "# to be applied to specific dimensions of an array:\n",
    "\n",
    "sum(m4,3)        # takes the sum over the third dimension\n",
    "sum(m4,(1,3)) # sum over first and third dim\n",
    "\n",
    "maximum(m4,2)    # find the max elt along dim 2\n",
    "findmax(m4,3)    # find the max elt and its index along dim 3 (available only in very recent Julia versions)\n",
    "\n",
    "# Broadcasting\n",
    "# when you combine arrays of different sizes in an operation,\n",
    "# an attempt is made to \"spread\" or \"broadcast\" the smaller array\n",
    "# so that the sizes match up. broadcast operators are preceded by a dot:\n",
    "\n",
    "m4 .+ 3       # add 3 to all elements\n",
    "m4 .+ [1,2]      # adds vector [1,2] to all elements along first dim\n",
    "\n",
    "# slices and views\n",
    "m4=m4[:,:,1] # holds dim 3 fixed\n",
    "m4[:,2,:]  # that's a 2x1x2 array. not very intuititive to look at\n",
    "\n",
    "# get rid of dimensions with size 1:\n",
    "squeeze(m4[:,2,:],2)  # that's better\n",
    "\n",
    "# assign new values to a certain view\n",
    "m4[:,:,1] = rand(1:6,2,3)\n",
    "printsum(m4)\n",
    "#> 2x3x2 Array{Int64,3}: [3 5 2\n",
    "#>  2 2 2]\n",
    "#>\n",
    "#> [4 5 6\n",
    "#>  5 6 7]\n",
    "\n",
    "# (for more examples of try, catch see Error Handling above)\n",
    "try\n",
    "    # this will cause an error, you have to assign the correct type\n",
    "    m4[:,:,1] = rand(2,3)\n",
    "catch err\n",
    "    println(err)\n",
    "end\n",
    "#> InexactError()\n",
    "\n",
    "try\n",
    "    # this will cause an error, you have to assign the right shape\n",
    "    m4[:,:,1] = rand(1:6,3,2)\n",
    "catch err\n",
    "    println(err)\n",
    "end\n",
    "#> DimensionMismatch(\"tried to assign 3x2 array to 2x3x1 destination\")"
   ]
  },
  {
   "cell_type": "code",
   "execution_count": 15,
   "metadata": {},
   "outputs": [
    {
     "ename": "LoadError",
     "evalue": "\u001b[91mMethodError: no method matching repl(::Symbol, ::Symbol)\u001b[0m\nClosest candidates are:\n  repl(\u001b[91m::IO\u001b[39m, ::Symbol) at docs/utils.jl:185\n  repl(\u001b[91m::IO\u001b[39m, ::Any) at docs/utils.jl:196\n  repl(::Any) at docs/utils.jl:198\u001b[39m",
     "output_type": "error",
     "traceback": [
      "\u001b[91mMethodError: no method matching repl(::Symbol, ::Symbol)\u001b[0m\nClosest candidates are:\n  repl(\u001b[91m::IO\u001b[39m, ::Symbol) at docs/utils.jl:185\n  repl(\u001b[91m::IO\u001b[39m, ::Any) at docs/utils.jl:196\n  repl(::Any) at docs/utils.jl:198\u001b[39m",
      ""
     ]
    }
   ],
   "source": [
    "?help repl"
   ]
  },
  {
   "cell_type": "code",
   "execution_count": 34,
   "metadata": {},
   "outputs": [
    {
     "name": "stdout",
     "output_type": "stream",
     "text": [
      "hello\n",
      "hello\n",
      "hello\n"
     ]
    }
   ],
   "source": [
    "for i in enumerate(Int32[1 2 3])\n",
    "    println(\"hello\")\n",
    "end"
   ]
  },
  {
   "cell_type": "code",
   "execution_count": 25,
   "metadata": {},
   "outputs": [
    {
     "data": {
      "text/plain": [
       "4.8818192885643805"
      ]
     },
     "execution_count": 25,
     "metadata": {},
     "output_type": "execute_result"
    }
   ],
   "source": [
    "√(3+4) + √5"
   ]
  },
  {
   "cell_type": "markdown",
   "metadata": {},
   "source": [
    "# Dictionaries"
   ]
  },
  {
   "cell_type": "code",
   "execution_count": 10,
   "metadata": {
    "scrolled": false
   },
   "outputs": [
    {
     "name": "stdout",
     "output_type": "stream",
     "text": [
      "Dict{Int64,String} with 2 entries: Dict(2=>\"two\",1=>\"one\")\n",
      "Dict{Int64,String} with 3 entries: Dict(2=>\"two\",3=>\"three\",1=>\"one\")\n",
      "Dict{Int64,AbstractString} with 1 entry: Dict{Int64,AbstractString}(Pair{Int64,AbstractString}(0, \"zero\"))\n",
      "Dict{Int64,String} with 10 entries: Dict(7=>\"7\",4=>\"4\",9=>\"9\",10=>\"10\",2=>\"2\",3=>\"3\",5=>\"5\",8=>\"8\",6=>\"6\",1=>\"1\")\n",
      "true\n",
      "true\n",
      "Base.ValueIterator for a Dict{Int64,String} with 3 entries: String[\"two\", \"three\", \"one\"]\n",
      "3-element Array{String,1}: String[\"two\", \"three\", \"one\"]\n"
     ]
    }
   ],
   "source": [
    "# dicts can be initialised directly:\n",
    "a1 = Dict(1=>\"one\", 2=>\"two\")\n",
    "printsum(a1) #> Dict{Int64,String}: {2=>\"two\",1=>\"one\"}\n",
    "\n",
    "# then added to:\n",
    "a1[3]=\"three\"\n",
    "printsum(a1) #> Dict{Int64,String}: {2=>\"two\",3=>\"three\",1=>\"one\"}\n",
    "# (note dicts cannot be assumed to keep their original order)\n",
    "\n",
    "# dicts may also be created with the type explicitly set\n",
    "a2 = Dict{Int64, AbstractString}()\n",
    "a2[0]=\"zero\"\n",
    "printsum(a2)\n",
    "#> Dict{Int64,AbstractString} with 1 entry: Dict{Int64,AbstractString}(Pair{Int64,AbstractString}(0,\"zero\"))\n",
    "\n",
    "# dicts, like arrays, may also be created from comprehensions\n",
    "a3 = Dict([i => @sprintf(\"%d\", i) for i = 1:10])\n",
    "printsum(a3)\n",
    "#> Dict{Any,Any}: {5=>\"5\",4=>\"4\",6=>\"6\",7=>\"7\",2=>\"2\",10=>\"10\",9=>\"9\",8=>\"8\",3=>\"3\",1=>\"1\"}\n",
    "\n",
    "# as you would expect, Julia comes with all the normal helper functions\n",
    "# for dicts, e.g., haskey\n",
    "println(haskey(a1,1)) #> true\n",
    "\n",
    "# which is equivalent to\n",
    "println(1 in keys(a1)) #> true\n",
    "# where keys creates an iterator over the keys of the dictionary\n",
    "\n",
    "# similar to keys, values get iterators over the dict's values:\n",
    "printsum(values(a1)) \n",
    "#> Base.ValueIterator for a Dict{Int64,String} with 3 entries: String[\"two\",\"three\",\"one\"]\n",
    "\n",
    "# use collect to get an array:\n",
    "printsum(collect(values(a1)))\n",
    "#> 3-element Array{String,1}: String[\"two\",\"three\",\"one\"]"
   ]
  },
  {
   "cell_type": "markdown",
   "metadata": {},
   "source": [
    "# Plotting"
   ]
  },
  {
   "cell_type": "code",
   "execution_count": 2,
   "metadata": {},
   "outputs": [
    {
     "data": {
      "image/png": "[encoded data removed]",
      "text/plain": [
       "Winston.FramedPlot(...)"
      ]
     },
     "metadata": {},
     "output_type": "display_data"
    }
   ],
   "source": [
    "# Pkg.add(\"Winston\")\n",
    "# had to brew install cairo pango\n",
    "using Winston\n",
    "\n",
    "# plot some data\n",
    "pl = plot(cumsum(rand(500) .- 0.5), \"r\", cumsum(rand(500) .- 0.5), \"b\")\n",
    "# display the plot (not done automatically!)\n",
    "display(pl)\n",
    "\n",
    "# save the current figure\n",
    "savefig(\"winston.svg\")\n",
    "# .eps, .pdf, & .png are also supported\n",
    "# we used svg here because it respects the width and height specified above"
   ]
  },
  {
   "cell_type": "code",
   "execution_count": 43,
   "metadata": {},
   "outputs": [
    {
     "name": "stderr",
     "output_type": "stream",
     "text": [
      "\u001b[1m\u001b[36mINFO: \u001b[39m\u001b[22m\u001b[36mInstalling Cairo v0.5.1\n",
      "\u001b[39m\u001b[1m\u001b[36mINFO: \u001b[39m\u001b[22m\u001b[36mInstalling ColorTypes v0.6.7\n",
      "\u001b[39m\u001b[1m\u001b[36mINFO: \u001b[39m\u001b[22m\u001b[36mInstalling Colors v0.8.2\n",
      "\u001b[39m\u001b[1m\u001b[36mINFO: \u001b[39m\u001b[22m\u001b[36mInstalling FixedPointNumbers v0.4.6\n",
      "\u001b[39m\u001b[1m\u001b[36mINFO: \u001b[39m\u001b[22m\u001b[36mInstalling Graphics v0.3.0\n",
      "\u001b[39m\u001b[1m\u001b[36mINFO: \u001b[39m\u001b[22m\u001b[36mInstalling Homebrew v0.6.3\n",
      "\u001b[39m\u001b[1m\u001b[36mINFO: \u001b[39m\u001b[22m\u001b[36mInstalling IniFile v0.4.0\n",
      "\u001b[39m\u001b[1m\u001b[36mINFO: \u001b[39m\u001b[22m\u001b[36mInstalling NaNMath v0.3.1\n",
      "\u001b[39m\u001b[1m\u001b[36mINFO: \u001b[39m\u001b[22m\u001b[36mInstalling Reexport v0.1.0\n",
      "\u001b[39m\u001b[1m\u001b[36mINFO: \u001b[39m\u001b[22m\u001b[36mInstalling Tk v0.5.2\n",
      "\u001b[39m\u001b[1m\u001b[36mINFO: \u001b[39m\u001b[22m\u001b[36mInstalling Winston v0.13.2\n",
      "\u001b[39m\u001b[1m\u001b[36mINFO: \u001b[39m\u001b[22m\u001b[36mBuilding Homebrew\n",
      "\u001b[39m"
     ]
    },
    {
     "name": "stdout",
     "output_type": "stream",
     "text": [
      "Already up-to-date.\n",
      "Uninstalling fontconfig... (493 files, 3.2MB)\n",
      "==> Installing fontconfig from staticfloat/juliatranslated\n",
      "==> Downloading https://homebrew.bintray.com/bottles/fontconfig-2.12.6.sierra.bottle.tar.gz\n",
      "Already downloaded: /Users/ldavis/Library/Caches/Homebrew.jl/fontconfig-2.12.6.sierra.bottle.tar.gz\n",
      "==> Pouring fontconfig-2.12.6.sierra.bottle.tar.gz\n",
      "==> Regenerating font cache, this may take a while\n",
      "==> /Users/ldavis/.julia/v0.6/Homebrew/deps/usr/Cellar/fontconfig/2.12.6/bin/fc-cache -frv\n",
      "🍺  /Users/ldavis/.julia/v0.6/Homebrew/deps/usr/Cellar/fontconfig/2.12.6: 493 files, 3.2MB\n"
     ]
    },
    {
     "name": "stderr",
     "output_type": "stream",
     "text": [
      "Warning: Already linked: /Users/ldavis/.julia/v0.6/Homebrew/deps/usr/Cellar/fontconfig/2.12.6\n",
      "\u001b[1m\u001b[36mINFO: \u001b[39m\u001b[22m\u001b[36mBuilding Cairo\n",
      "\u001b[39m\u001b[1m\u001b[36mINFO: \u001b[39m\u001b[22m\u001b[36mBuilding Tk\n",
      "\u001b[39m\u001b[1m\u001b[36mINFO: \u001b[39m\u001b[22m\u001b[36mPackage database updated\n",
      "\u001b[39m\u001b[1m\u001b[36mINFO: \u001b[39m\u001b[22m\u001b[36mMETADATA is out-of-date — you may not have the latest version of Winston\n",
      "\u001b[39m\u001b[1m\u001b[36mINFO: \u001b[39m\u001b[22m\u001b[36mUse `Pkg.update()` to get the latest versions of your packages\n",
      "\u001b[39m"
     ]
    }
   ],
   "source": [
    "Pkg.add(\"Winston\")"
   ]
  }
 ],
 "metadata": {
  "kernelspec": {
   "display_name": "Julia 0.6.2",
   "language": "julia",
   "name": "julia-0.6"
  },
  "language_info": {
   "file_extension": ".jl",
   "mimetype": "application/julia",
   "name": "julia",
   "version": "0.6.2"
  },
  "toc": {
   "colors": {
    "hover_highlight": "#ece260",
    "navigate_num": "#000000",
    "navigate_text": "#000000",
    "running_highlight": "#FF0000",
    "selected_highlight": "#fff968",
    "sidebar_border": "#ffffff",
    "wrapper_background": "#ffffff"
   },
   "moveMenuLeft": false,
   "nav_menu": {
    "height": "72px",
    "width": "250px"
   },
   "navigate_menu": true,
   "number_sections": true,
   "sideBar": true,
   "threshold": 4,
   "toc_cell": false,
   "toc_section_display": "block",
   "toc_window_display": true,
   "widenNotebook": false
  }
 },
 "nbformat": 4,
 "nbformat_minor": 2
}
