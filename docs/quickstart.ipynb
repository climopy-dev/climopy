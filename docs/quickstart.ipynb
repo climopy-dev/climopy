{
 "cells": [
  {
   "cell_type": "markdown",
   "metadata": {},
   "source": [
    "# Data downloads"
   ]
  },
  {
   "cell_type": "markdown",
   "metadata": {},
   "source": [
    "## Reanalysis downloads"
   ]
  },
  {
   "cell_type": "markdown",
   "metadata": {},
   "source": [
    "Easily download ERA-interim reanalysis data with the `~climpy.downloads.eraint` function! Hoping to expand this to provide tools for downloading MERRA reanalysis data, NCEP-NCAR reanalysis data, and archived CMIP model data."
   ]
  },
  {
   "cell_type": "code",
   "execution_count": null,
   "metadata": {},
   "outputs": [],
   "source": [
    "# Load\n",
    "# NOTE: For now just get July and January values, store in same place\n",
    "# NOTE: Full decade is only 1GB or so, so we store one file\n",
    "import proplot as plot\n",
    "import climpy\n",
    "import numpy as np\n",
    "plot.nbsetup()\n",
    "levs = range(1,61) # all 60 of them, so we can interpolate easily\n",
    "hours = (0, 12) # only hours 0, 12 available; tdt is average over 12 ho\n",
    "years = [(1981, 1990), (1991, 2000), (2001, 2010)]\n",
    "# For testing\n",
    "# levs = 58\n",
    "# hours = 12\n",
    "# years = [(2010, 2010)]\n",
    "for year in years:\n",
    "    for month in (1,7):\n",
    "        # Temperature tendency\n",
    "        filename = f'{base}/mlevs/tdt_{year[0]:04d}-{year[1]:04d}_{month:02d}.grb2'\n",
    "        print(f'\\n\\n\\nTemperature tendency for years {year}, months {month}, file {filename}.')\n",
    "        climpy.eraint(('tdt','msp'), 'oper', 'ml', levs=levs,\n",
    "                yearrange=year, months=month,\n",
    "                # days=1, # for testing\n",
    "                # years=year, month=months,\n",
    "                filename=filename, grid='F32',\n",
    "                forecast=True, format='grib2',\n",
    "                # forecast=True, format='netcdf',\n",
    "                step=12, hours=hours)"
   ]
  },
  {
   "cell_type": "markdown",
   "metadata": {},
   "source": [
    "# Time series analysis"
   ]
  },
  {
   "cell_type": "markdown",
   "metadata": {},
   "source": [
    "## Trends and windows"
   ]
  },
  {
   "cell_type": "markdown",
   "metadata": {},
   "source": [
    "Get the trend rate-of-change with the `~climpy.oa.linefit` function. Get the actual best-fit line *y*-coordinates with using the `build` keyword arg."
   ]
  },
  {
   "cell_type": "code",
   "execution_count": null,
   "metadata": {},
   "outputs": [],
   "source": [
    "import proplot as plot\n",
    "import climpy\n",
    "import numpy as np\n",
    "plot.nbsetup()\n",
    "d = climpy.rednoise(500, 0.98, init=[-3,0,3], samples=3)\n",
    "# d = climpy.rednoise(500, 0.99, init=0, samples=[3,3])\n",
    "r = climpy.rolling(d, 50, axis=0, fillvalue=np.nan)\n",
    "s = climpy.linefit(d, axis=0, build=True)\n",
    "# fit = climpy.linefit(d, axis=0, stderr=True)\n",
    "# l = climpy.lanczos(30)\n",
    "f, ax = plot.subplots()\n",
    "for i in range(d.shape[1]):\n",
    "    color = f'C{i}'\n",
    "    h = ax.plot(d[:,i], color=color)\n",
    "    h = ax.plot(r[:,i], color=color, alpha=.5, ls='--')\n",
    "    h = ax.plot(s[:,i], color=color, alpha=.2, lw=2)\n",
    "ax.format(xlabel='x', ylabel='y', title='Red noise with window and line fit')"
   ]
  },
  {
   "cell_type": "markdown",
   "metadata": {},
   "source": [
    "## Lagged correlation"
   ]
  },
  {
   "cell_type": "markdown",
   "metadata": {},
   "source": [
    "This is facilitated with the `~climpy.oa.covar`, and `~climpy.oa.corr` functions. These functions also support **autocorrelation** and **autocovariance**. An example is coming soon!"
   ]
  },
  {
   "cell_type": "markdown",
   "metadata": {},
   "source": [
    "## Empirical orthogonal functions"
   ]
  },
  {
   "cell_type": "markdown",
   "metadata": {},
   "source": [
    "### 1D\n",
    "Use the `~climpy.oa.eof` function to calculate empirical orthogonal functions and their associated eigenvalues and principle component series. The below tests our function with an artifical \"zonal-mean zonal wind\" dataset, generated with `~climpy.oa.rednoise`. The peak strength and peak strength position vary in time (the *y*-axis). The PCs are shown in the panel on the right."
   ]
  },
  {
   "cell_type": "code",
   "execution_count": null,
   "metadata": {},
   "outputs": [],
   "source": [
    "import climpy\n",
    "import numpy as np\n",
    "import proplot as plot\n",
    "plot.nbsetup()\n",
    "def eofdata(nx, nt, alpha=0.95, scale1=1, scale2=1): # scales can be scalar, or space vectors\n",
    "    # Get artificial EOF data. Note scale1/scale2 ***must be compatible shape***. You can make them 3D, singleton\n",
    "    # 2-righthand dimensions, and that simulates creating another spatial dimension\n",
    "    # Construct a see-saw of scale factors, varying from some number **smaller** than zero to **larger** than zero, and the \n",
    "    # **position** of the **center** of that see-saw (i.e. where factors equal 1) is a red noise time series.\n",
    "    # Actually it didn't work and was dumb, nevermind\n",
    "    # mid = climpy.rednoise(nt, 0.95, mean=np.pi/4, stdev=np.pi/24)\n",
    "    # data = data*(1 + ((x[:,None] - mid[None,:]))) # so the scaling looks more linear\n",
    "    \n",
    "    # Just impose a random *phase* and *amplitude*.\n",
    "    x = np.linspace(0, np.pi/2, nx)\n",
    "    t = np.linspace(0, nt/4, nt)\n",
    "    # scale1, scale2 = np.atleast_1d(scale1), np.atleast_1d(scale2)\n",
    "    phase = climpy.rednoise(nt, alpha, mean=0, stdev=np.pi/12)\n",
    "    amplitude = climpy.rednoise(nt, alpha, mean=1, stdev=0.2)\n",
    "    data = scale2*amplitude[None,:]*np.sin(scale1*phase[None,:] + (x*2)[:,None])**2 # big scale equals strong phase effect\n",
    "    return x, t, data"
   ]
  },
  {
   "cell_type": "code",
   "execution_count": null,
   "metadata": {},
   "outputs": [],
   "source": [
    "import numpy as np\n",
    "import climpy\n",
    "import proplot as plot\n",
    "plot.nbsetup()\n",
    "# Coordinates\n",
    "# Note shape will be x by time\n",
    "t, x, data = eofdata(500, 500, alpha=0.98) # 500 x, 500 times\n",
    "\n",
    "# Next get the EOFs\n",
    "evals, nstar, projs, pcs = climpy.eof(data, record=-1, space=[-2], neof=5)\n",
    "print('Data', data.shape)\n",
    "print('Evals', evals.shape, 'Nstar', nstar.shape, 'Projection', projs.shape, 'PCs', pcs.shape)\n",
    "\n",
    "# Plot data\n",
    "f, ax = plot.subplots(axwidth=4, bottomcolorbar=True, innerpanels='r', innerpanels_kw={'wwidth':1}, aspect=1.3)\n",
    "m = ax.contourf(x, t, data, cmap='sunset')\n",
    "ax.format(xlabel='coordinate', ylabel='time', title='Time series')\n",
    "res = f.bpanel.colorbar(m, clabel='magnitude')\n",
    "h1, = ax.rpanel.plot(pcs[0,0,:], t, color='pink5', label='EOF1')\n",
    "h2, = ax.rpanel.plot(pcs[1,0,:], t, color='yellow5', label='EOF2')\n",
    "ax.rpanel.legend([h1, h2], entire=False, ncols=1, frameon=True, framealpha=0.8)\n",
    "ax.rpanel.format(title='PC series')\n",
    "\n",
    "# And plot them\n",
    "f, ax = plot.subplots(axwidth=3)\n",
    "h1, = ax.plot(x, projs[0,:,0], color='red7', linewidth=2, label='EOF1')\n",
    "h2, = ax.plot(x, projs[1,:,0], color='blue7', linewidth=2, label='EOF2')\n",
    "h2, = ax.plot(x, projs[2,:,0], color='gray5', linewidth=2, label='EOF3')\n",
    "h3, = ax.plot(x, projs[3,:,0], color='gray5', linewidth=5, label='EOF4')\n",
    "ax.axhline(0, color='k', ls='--', lw=2)\n",
    "ax.format(xlabel='coordinate', ylabel='time', title='EOFs')\n",
    "l = ax.legend(ncols=2)"
   ]
  },
  {
   "cell_type": "markdown",
   "metadata": {},
   "source": [
    "### ND\n",
    "Easily use `~climpy.oa.eof` to get an EOF along **arbitrary sample dimensions** -- for example, latitude, longitude, and pressure. The below demonstrates this for an **artificial** zonal-mean zonal wind dataset with a \"baroclinic\" mode and a \"barotropic\" mode."
   ]
  },
  {
   "cell_type": "code",
   "execution_count": null,
   "metadata": {},
   "outputs": [],
   "source": [
    "import numpy as np\n",
    "import climpy\n",
    "import proplot as plot\n",
    "import scipy.stats as st\n",
    "plot.nbsetup()\n",
    "# New method, we just take the vector from above and tile it with varying scale factors\n",
    "# Let's say the position EOF is strong on top, and the strength EOF is strongest on the bottom\n",
    "nx, nt = 15, 100\n",
    "ny = 15\n",
    "# offset = 0 # will make lopsided scaling to one side\n",
    "m1, m2 = 1.5, -1.5\n",
    "scales1 = st.norm(m1, 1).pdf(np.linspace(-2, +2, ny)) # Gaussian curves\n",
    "scales2 = st.norm(m2, 1).pdf(np.linspace(-2, +2, ny))\n",
    "scales1 /= scales1.mean()\n",
    "scales2 /= scales2.mean()\n",
    "# scales1 = 2**(offset + np.linspace(-1, 1, ny)) # stronger on top\n",
    "# scales2 = 2**(-offset + np.linspace(-1, 1, ny))\n",
    "scales1 = scales1[:,None,None] # scale on an *extra dimension*\n",
    "scales2 = scales2[:,None,None]\n",
    "\n",
    "# Get data and scale it\n",
    "x, t, data = eofdata(nx, nt, scale1=scales1, scale2=scales2)\n",
    "y = x # the extra dimension; use same coordinates\n",
    "\n",
    "# Get the EOFs\n",
    "evals, nstar, projs, pcs = climpy.eof(data, record=-1, space=(-3,-2), neof=5, debug=True)\n",
    "print('Data', data.shape)\n",
    "print('Evals', evals.shape, 'Nstar', nstar.shape, 'Projection', projs.shape, 'PCs', pcs.shape)\n",
    "f, axs = plot.subplots(innercolorbars='b', axwidth=3, ncols=2, span=0, share=0, wspace=0.5)\n",
    "nlev = 11\n",
    "data1 = projs[0,:,:,0].T\n",
    "data2 = projs[1,:,:,0].T \n",
    "# data2 -= 10*projs[1,:,:,0].mean() # tests the 'zero' normalizer\n",
    "m1 = axs[0].contourf(x, y, data1, cmap='Sunset', levels=nlev, extend='both')\n",
    "m2 = axs[1].contourf(x, y, data2, cmap='NegPos', norm='zero', levels=nlev, extend='both')\n",
    "axs[0].format(title='EOF1')\n",
    "axs[1].format(title='EOF2')\n",
    "axs.format(xlabel='x', ylabel='y')\n",
    "res = axs[0].bottompanel.colorbar(m1)\n",
    "res = axs[1].bottompanel.colorbar(m2)\n"
   ]
  },
  {
   "cell_type": "markdown",
   "metadata": {},
   "source": [
    "# Spectral analysis"
   ]
  },
  {
   "cell_type": "markdown",
   "metadata": {},
   "source": [
    "## Spectral filtering"
   ]
  },
  {
   "cell_type": "markdown",
   "metadata": {},
   "source": [
    "Use `~climpy.oa.filter` to filter data. Note this feature needs more testing! But feel free to copy my code. The below shows response functions and impulse response curves, and applies the filter to some sample data."
   ]
  },
  {
   "cell_type": "code",
   "execution_count": null,
   "metadata": {},
   "outputs": [],
   "source": [
    "import proplot as plot\n",
    "import climpy\n",
    "import numpy as np\n",
    "plot.nbsetup()\n",
    "x = np.linspace(0,20,1000) # 20 days, but with tons of data in-between\n",
    "d = climpy.waves(x, wavelens=[1, 2])"
   ]
  },
  {
   "cell_type": "code",
   "execution_count": null,
   "metadata": {},
   "outputs": [],
   "source": [
    "# Fake data\n",
    "n = 501\n",
    "wsample = 10\n",
    "cutoff = 1.2\n",
    "cutoff2 = 0.5\n",
    "waves = [0.3, 0.7, 2]\n",
    "x = np.linspace(0,wsample,n) # 20 days, but with tons of data in-between\n",
    "data = climpy.waves(x, np.array(waves), phase=None)\n",
    "# Iterate\n",
    "filters = ['lanczos', 'butterworth']\n",
    "# filters = ['butterworth', 'lanczos']\n",
    "# filters = ['butterworth']\n",
    "for filt in filters:\n",
    "    # Create filters\n",
    "    dx = x[1]-x[0]\n",
    "    if filt=='lanczos':\n",
    "        wfilter = 2\n",
    "        w = climpy.lanczos(dx, wfilter, cutoff)\n",
    "        w2 = climpy.lanczos(dx, wfilter, cutoff2)\n",
    "        suptitle = f'{wfilter}-day Lanczos filter'\n",
    "        # suptitle = f'{len(w[0])}-day Lanczos filter'\n",
    "        # w, w2 = [w], [w2]\n",
    "    elif filt=='butterworth':\n",
    "        wfilter = 11 # should be odd-numbered\n",
    "        w = climpy.butterworth(dx, wfilter, cutoff)\n",
    "        w2 = climpy.butterworth(dx, wfilter, cutoff2)\n",
    "        suptitle =  f'order-{len(w[1])} Butterworth filter'\n",
    "    colors = ('red5', 'blue5')\n",
    "    nf = 2 if filt=='butterworth' else 1 # in *this case*, for display purposes, need to prevent shifting to left or right\n",
    "    # Preparation for drawing\n",
    "    radians = False\n",
    "    scale = 2*np.pi if radians else 1\n",
    "    cutoffs = (cutoff,cutoff2)\n",
    "    weights = (w,w2)\n",
    "    # Draw stuff\n",
    "    f, axs = plot.subplots(right=0.2, left=0.7, top=0.5, array=[[1],[0],[3],[4]], hratios=(1,-.25,1,1),\n",
    "                           sharex=False, spany=False, hspace=.7, aspect=2)\n",
    "    ax = axs[1]\n",
    "    for ic,iw,color in zip(cutoffs,weights,colors):\n",
    "        # s, r = climpy.lanczos(width, ic, dx, response=True)\n",
    "        s, r = climpy.response(dx, *iw) # b and a coefficients, or maybe just b\n",
    "        # print(s.max()), print(x.max())\n",
    "        s = s*scale # optionally convert to radians\n",
    "        r = r.copy()\n",
    "        h = ax.plot(s, r, color=color, lw=2)\n",
    "        ax.axvline(scale/ic, color='k', ls='--', lw=2, alpha=0.5) # the cutoff wavelenghs, converted to wavenumber\n",
    "    xlim = [1e-1, 5]\n",
    "    if not radians: # wavenumbers on x-axis\n",
    "        xlocator = 1 # frequencies of interest\n",
    "        xlabel = 'wavenumber (day$^{-1}$)'\n",
    "        xformatter = None\n",
    "    else: # frequency in radians on x-axis\n",
    "        xlim[1] *= np.pi\n",
    "        xlocator = plot.arange(0,np.pi*8,np.pi*0.5) # frequencies of interest\n",
    "        xlabel = 'frequency (rad day$^{-1}$)'\n",
    "        xformatter=plot.PiFormatter()\n",
    "    ax.format(xscale='linear', xlim=xlim, xlocator=xlocator, xtickminor=False,\n",
    "              xformatter=xformatter, ylim=(-.1,1.1),\n",
    "              xlabel=xlabel, ylabel='Window coefficients') # frequency i.e. radians per time unit\n",
    "    # xlocator = np.array([0.1, 0.5, 1, 5, 10])\n",
    "    xlocator = np.array([0.1, 0.5, 1, 5])\n",
    "    ax2 = ax.twinx()\n",
    "    ax2.format(xscale='inverse', xlim=xlim,\n",
    "               xlabel='wavelength (day)', xlocator=xlocator, title='Response function',\n",
    "               xtickdir='in', # xticklabeldir='in',\n",
    "               xtickminor=True, xgrid=True, xgridminor=False)\n",
    "    ax2.xaxis.grid(False, which='major')\n",
    "    ax2.title.update({'position':(0.5,1.1)})\n",
    "    for tick in ax2.xaxis.majorTicks:\n",
    "        tick.gridline.set_visible(False)\n",
    "    # Impulse response\n",
    "    ax = axs[0]\n",
    "    idata = data.copy()\n",
    "    idata[:] = 0\n",
    "    idata[0] = 1\n",
    "    idata[len(idata)//2] = 1\n",
    "    ifilter = climpy.filter(idata, *w, n=nf, axis=0, fix=False)\n",
    "    ifilter2 = climpy.filter(idata, *w2, n=nf, axis=0, fix=False)\n",
    "    ax.plot(x, idata, color='k', label='raw', alpha=0.8)\n",
    "    ax.plot(x, ifilter, color=colors[0], alpha=0.8, ls='-', lw=2, label='lowpass 1')\n",
    "    ax.plot(x, ifilter2, color=colors[1], alpha=0.8, ls='-', lw=2, label='lowpass 2')\n",
    "    ax.legend()\n",
    "    ylim = max(np.nanmax(np.abs(ifilter)), np.abs(np.nanmax(ifilter2)))*1.1\n",
    "    ax.format(xlim=(0,x.max()), suptitle=suptitle,\n",
    "              xlabel='x (day)', ylabel='response', title='Impulse response', ylim=(-ylim, ylim))\n",
    "    # Next play with sample data\n",
    "    # Can show that, given some weights, lfilter does exact same thing as rolling() function\n",
    "    # lanczos_roll = climpy.rolling(data, w, axis=0)\n",
    "    # lanczos_roll2 = climpy.rolling(data, w2, axis=0)\n",
    "    ax = axs[2]\n",
    "    lfilter = climpy.filter(data, *w, n=nf, axis=0) # with builtin signal method\n",
    "    lfilter2 = climpy.filter(data, *w2, n=nf, axis=0)\n",
    "    ax.plot(x, data, color='gray5', label='raw', alpha=0.8)\n",
    "    # ax.plot(x, lanczos_roll, color='r', alpha=1, ls='--', lw=2, label='Lanczos')\n",
    "    # ax.plot(x, data-lanczos_roll2, color='orange', alpha=0.2, ls='-', lw=2, label='Lanczos')\n",
    "    # ax.plot(x, lanczos_roll2-lanczos_roll, color='indigo5', alpha=1, ls='-', lw=2) # bandpass attempt\n",
    "    ax.plot(x, lfilter, color='r', alpha=0.8, ls='-', lw=2, label='lowpass') # capture low-freq oscillation\n",
    "    ax.plot(x, data - lfilter2, color='orange', alpha=0.2, ls='-', lw=2, label='highpass') # capture high-freq oscillation\n",
    "    ax.plot(x, lfilter2 - lfilter, color='indigo5', alpha=0.8, ls='-', lw=2, label='bandpass') # capture middle oscillation\n",
    "    ax.format(xlabel='x (day)', ylabel='y', title='Sample data',\n",
    "              # ylim=(-.01,.01), yformatter=plot.Formatter(precision=3),\n",
    "             )\n",
    "    ax.legend(ncols=4)\n",
    "    f.save(f'{filt}_display.pdf')"
   ]
  },
  {
   "cell_type": "markdown",
   "metadata": {},
   "source": [
    "## 1D power spectra"
   ]
  },
  {
   "cell_type": "markdown",
   "metadata": {},
   "source": [
    "Use the `~climpy.oa.power` function to get the spectral power. You can use the **exact same function** for getting the co-spectra, quadrature spectra, and individual power spectra for two different time series! The below tests its performance with an artificial dataset consisting of 3 sine curves, generated with `~climpy.oa.waves`."
   ]
  },
  {
   "cell_type": "code",
   "execution_count": null,
   "metadata": {},
   "outputs": [],
   "source": [
    "import proplot as plot\n",
    "import climpy\n",
    "import numpy as np\n",
    "plot.nbsetup()\n",
    "x = np.linspace(0,100,10000) # 20 days\n",
    "dx = x[1]-x[0]\n",
    "# Data\n",
    "# waves = [0.1, 0.2, 0.4, 0.6, 0.8, 3, 4, 5, 10, 30]\n",
    "waves = [0.5, 1, 4]\n",
    "window = len(x)//3 # 3 windows, or *5* overlapping windows\n",
    "data = climpy.waves(x, waves, phase=None)\n",
    "\n",
    "# Spectrum\n",
    "# freq, power = climpy.power(data, dx, wintype=('gaussian',2000))\n",
    "# freq, power = climpy.power(data, dx, wintype='boxcar', nperseg=2000)\n",
    "freq, power = climpy.power(data, dx=dx, cyclic=False, manual=True, wintype='hann', nperseg=2000, scaling='spectrum')\n",
    "freq = 1/freq # to wavelengths\n",
    "\n",
    "# Figure\n",
    "f, axs = plot.subplots(nrows=2, aspect=2, hspace=0.8, width=4, sharex=False, spany=False, hratios=(1,.5))\n",
    "ax = axs[0]\n",
    "ax.plot(x, data, label='raw')\n",
    "ax.format(xlabel='x', ylabel='y', suptitle='Power spectra')\n",
    "ax = axs[1]\n",
    "\n",
    "# Plot\n",
    "wnums = np.array([10, 0.3])\n",
    "ax.plot(freq, power, label='power spectrum')\n",
    "ax.format(xlim=1/wnums, xlabel='wavelength (days)', ylabel='strength')\n",
    "var = data.var()\n",
    "ax.text(-0.05, 1.5, f'total variance: {var:.1f}', va='top', weight='bold', transform='axes')\n",
    "ax = ax.twiny()\n",
    "ax.format(xlim=wnums[::-1], xscale='inverse', xlabel='wavenum (1/days)')\n",
    "# ax.format(xlabel='wavelength (days)', ylabel='power (dB)', xscale='log', ylim=(-100,0))"
   ]
  },
  {
   "cell_type": "markdown",
   "metadata": {},
   "source": [
    "## 2D space-time power spectra"
   ]
  },
  {
   "cell_type": "markdown",
   "metadata": {},
   "source": [
    "It's also easy to get the \"**2-dimensional**\" spectral power, with one cyclic and one temporal axis, as in [Randel and Held](https://journals.ametsoc.org/doi/abs/10.1175/1520-0469(1991)048%3C0688:PSSOTE%3E2.0.CO%3B2). The below demonstrates this ability with an artificial wavetrain propagating up the *y* axis with negative phase speed."
   ]
  },
  {
   "cell_type": "code",
   "execution_count": null,
   "metadata": {},
   "outputs": [],
   "source": [
    "# Data\n",
    "import proplot as plot\n",
    "import climpy\n",
    "import numpy as np\n",
    "plot.nbsetup()\n",
    "n2 = 1800\n",
    "n1 = int(n2*0.25)\n",
    "n1 = int(n2*0.5)\n",
    "nperseg = 600\n",
    "x1 = np.linspace(0,5,n1) # cyclic dim\n",
    "x2 = np.linspace(0,5,n2) # non-cyclic dims\n",
    "offset = np.linspace(0,1.5*np.pi,n2)[::-1]\n",
    "w1 = [2]\n",
    "w2 = [5]\n",
    "d1 = climpy.waves(x1[:,None] + offset[None,:], w1)\n",
    "d2 = climpy.waves(x2[None,:], w2) # changing phase as we go up\n",
    "dx1 = x1[1]-x1[0]\n",
    "dx2 = x2[1]-x2[0]\n",
    "data = d1 + d2"
   ]
  },
  {
   "cell_type": "code",
   "execution_count": null,
   "metadata": {},
   "outputs": [],
   "source": [
    "# Note: -2 transform will be transform of *real* data (i.e. symmetric), so left-half taken, but -1 transform\n",
    "# will be transform of *complex* data, so both halves remain\n",
    "f1, f2, result = climpy.power2d(data, dx=dx1, dy=dx2, nperseg=nperseg, axes=(0,1))\n",
    "fig, axs = plot.subplots(nrows=2, aspect=2, width=5, sharex=False, spany=False, bottomcolorbar=True)\n",
    "# result = 10*np.log10(result)\n",
    "ax = axs[0]\n",
    "ax.contourf(x1, x2, data.T, cmap='sunset')\n",
    "ax.format(suptitle='2-D Transform, ClimPy', xlabel='x', ylabel='y')\n",
    "ax = axs[1]\n",
    "m = ax.contourf(f1, f2, result.T, cmap='sunset', levels=np.linspace(result.min(),result.max(),11))\n",
    "xl = 6\n",
    "ylim = (0, 6)\n",
    "ax.format(xlabel='x-wavenumber', ylabel='y-wavenumber', xlim=(-xl,xl), ylim=ylim)\n",
    "fig.bottompanel.colorbar(m, clabel='power (dB)')"
   ]
  }
 ],
 "metadata": {
  "kernelspec": {
   "display_name": "Python 3",
   "language": "python",
   "name": "python3"
  },
  "language_info": {
   "codemirror_mode": {
    "name": "ipython",
    "version": 3
   },
   "file_extension": ".py",
   "mimetype": "text/x-python",
   "name": "python",
   "nbconvert_exporter": "python",
   "pygments_lexer": "ipython3",
   "version": "3.6.4"
  },
  "toc": {
   "colors": {
    "hover_highlight": "#ece260",
    "navigate_num": "#000000",
    "navigate_text": "#000000",
    "running_highlight": "#FF0000",
    "selected_highlight": "#fff968",
    "sidebar_border": "#ffffff",
    "wrapper_background": "#ffffff"
   },
   "moveMenuLeft": false,
   "nav_menu": {
    "height": "24px",
    "width": "250px"
   },
   "navigate_menu": true,
   "number_sections": true,
   "sideBar": true,
   "threshold": 4,
   "toc_cell": false,
   "toc_section_display": "block",
   "toc_window_display": true,
   "widenNotebook": false
  }
 },
 "nbformat": 4,
 "nbformat_minor": 2
}
