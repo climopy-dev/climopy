{
 "cells": [
  {
   "cell_type": "markdown",
   "metadata": {},
   "source": [
    "# Import modules"
   ]
  },
  {
   "cell_type": "code",
   "execution_count": null,
   "metadata": {},
   "outputs": [],
   "source": [
    "import numpy as np\n",
    "import pandas as pd\n",
    "import os\n",
    "%matplotlib notebook\n",
    "%load_ext autoreload\n",
    "%autoreload 2\n",
    "import matplotlib as mpl\n",
    "import matplotlib.pyplot as plt\n",
    "from datetime import datetime\n",
    "from datetime import timedelta\n",
    "from IPython.display import clear_output\n",
    "os.chdir(os.environ['HOME'] + '/Google Drive/Research/Project_LandSeaContrast/')\n",
    "print(os.getcwd())\n",
    "import myfuncs as my\n",
    "from IPython.display import display\n",
    "    # for displaying pandas tables\n",
    "from IPython.core.display import display, HTML\n",
    "display(HTML(\"<style>.container { width:95% !important; }</style>\"))"
   ]
  },
  {
   "cell_type": "markdown",
   "metadata": {},
   "source": [
    "# Sorting test"
   ]
  },
  {
   "cell_type": "code",
   "execution_count": null,
   "metadata": {},
   "outputs": [],
   "source": [
    "print(np.arange(5).shape, np.random.rand(5).shape)\n",
    "np.interp((0.5,1.5,2.5), range(5),a)"
   ]
  },
  {
   "cell_type": "code",
   "execution_count": null,
   "metadata": {},
   "outputs": [],
   "source": [
    "help(np.interp)"
   ]
  },
  {
   "cell_type": "markdown",
   "metadata": {},
   "source": [
    "# Vector matching tools"
   ]
  },
  {
   "cell_type": "code",
   "execution_count": null,
   "metadata": {},
   "outputs": [],
   "source": [
    "from importlib import reload\n",
    "reload(my)\n",
    "a = pd.DataFrame({'a':[1,2],'b':[3,4]},\n",
    "                 index=[datetime(1970,1,1),datetime(1970,2,1)])\n",
    "b = pd.DataFrame({'a':[1,2,3],'b':[4,5,6]},index=[datetime(1970,1,1),datetime(1970,2,1),datetime(1970,3,1)])\n",
    "idfilt, filt = my.match(a.index,b.index)\n",
    "print('Loc:',a.loc[a.index[filt[0]]])\n",
    "print('iLoc:',a.iloc[1:2,:])\n",
    "print('iLoc, converting to Series:',a.iloc[1,:])\n",
    "try:\n",
    "    print('Simple index:',a[idfilt])\n",
    "except:\n",
    "    print('Loc index with ids:',a.loc[idfilt])\n",
    "    print('Must use .loc to filter with IndexType.')\n",
    "print('Index month:',a.index[0].month)\n",
    "print('Index type:',type(a.index))\n",
    "print('Sum, converting to Series:',b.sum(0))\n",
    "print('Values:', a.index.values, type(a.index.values[0]), type(a.index.values))"
   ]
  },
  {
   "cell_type": "markdown",
   "metadata": {},
   "source": [
    "# Datetime stuff"
   ]
  },
  {
   "cell_type": "code",
   "execution_count": null,
   "metadata": {},
   "outputs": [],
   "source": [
    "x = [datetime(y,1,1) for y in range(2000,2010)]\n",
    "y = np.datetime64(x)"
   ]
  },
  {
   "cell_type": "markdown",
   "metadata": {},
   "source": [
    "# Pandas Dataframe Stuff"
   ]
  },
  {
   "cell_type": "markdown",
   "metadata": {},
   "source": [
    "## Grouping with datetime indices"
   ]
  },
  {
   "cell_type": "code",
   "execution_count": null,
   "metadata": {},
   "outputs": [],
   "source": [
    "# integer grouping\n",
    "d = pd.DataFrame(dict(col1=[2,1,3,1,0]))\n",
    "d.index//3\n",
    "    # just like array division; then groups rows with common indices into\n",
    "    # this abstract \"GroupBy\" object onto which you can apply operations!\n",
    "f = d.groupby(d.index // 3).mean()\n",
    "display(f)\n",
    "# datetime grouping\n",
    "c = pd.DataFrame(dict(a=[1,2,3,4]), \n",
    "                 index=[datetime(1970,1,1), datetime(1970,2,1), \n",
    "                        datetime(1971,1,1), datetime(1971,2,1)])\n",
    "display(c)\n",
    "cy = c.groupby(c.index.year).mean()\n",
    "print('Yearly mean:')\n",
    "display(cy)\n",
    "cm = c.groupby(c.index.month).mean()\n",
    "print('Monthly mean:')\n",
    "display(cm)\n",
    "print('January filter:')\n",
    "mfilt = c.loc[c.index.month==1]\n",
    "display(mfilt)\n",
    "# or try mask\n",
    "print(c.index.month)\n",
    "np.in1d(c.index.month,[1,12])"
   ]
  },
  {
   "cell_type": "markdown",
   "metadata": {},
   "source": [
    "## Seasonal means with groupby"
   ]
  },
  {
   "cell_type": "code",
   "execution_count": null,
   "metadata": {},
   "outputs": [],
   "source": [
    "# and try seasonal means using groupby\n",
    "c = pd.DataFrame(dict(a=range(24)), \n",
    "                 index=[datetime(1970,i,1) for i in range(1,13)] + \n",
    "                [datetime(1971,i,1) for i in range(1,13)])\n",
    "season_mean = c.groupby((c.index.year + (c.index.month // 12), c.index.month % 12 // 3)).mean()\n",
    "display('season mean:',season_mean)\n",
    "display('index level 1:',season_mean.index.levels[0])\n",
    "try:\n",
    "    season_mean.groupby(season_mean.index.levels[0]).mean()\n",
    "except:\n",
    "    print('Grouping by with index reference does not work, because'\n",
    "          + 'pandas returns only the unique ids in order!')\n",
    "# instead use groupby option\n",
    "display('Annual mean:',season_mean.groupby(level=0).mean())\n",
    "display('')"
   ]
  },
  {
   "cell_type": "markdown",
   "metadata": {},
   "source": [
    "## Building a MultiIndex from scratch/suppressing new one in groupby"
   ]
  },
  {
   "cell_type": "code",
   "execution_count": null,
   "metadata": {},
   "outputs": [],
   "source": [
    "# multiindexing, and applying inline running mean\n",
    "M = pd.MultiIndex.from_product((range(1961,1991), range(1,13)))\n",
    "m = pd.DataFrame({'a':range(30*12)}, index=M)\n",
    "rollmean = m.groupby(level=1, group_keys=False, squeeze=True).rolling(window=5,center=True).mean()\n",
    "display(rollmean)\n",
    "# next, subtract result\n",
    "resid = m - rollmean"
   ]
  },
  {
   "cell_type": "markdown",
   "metadata": {},
   "source": [
    "## Changing Multi-Index entries "
   ]
  },
  {
   "cell_type": "code",
   "execution_count": null,
   "metadata": {},
   "outputs": [],
   "source": [
    "# reset a multiindex\n",
    "M = pd.MultiIndex.from_product((range(1961,1991), range(1,13)))\n",
    "m = pd.DataFrame({'a':range(30*12)}, index=M)\n",
    "print('Reindex does not work for this; result:',m.reindex(index=range(30*12), level=0)) # doesn't work; not intended useage\n",
    "try: \n",
    "    m.index.levels[0] = range(30*12)\n",
    "except:\n",
    "    print('Cannot set levels by assignment, since they are not mutable.')\n",
    "print('Instead, use set_levels with \"level\" kwarg.')\n",
    "m.index = m.index.set_levels(range(30), level=0)\n",
    "display('With new index:',m)\n",
    "# and what about iterating over objects? can we do it?\n",
    "for i in (m,):\n",
    "    i.index = i.index.set_levels(range(30,60), level=0)\n",
    "display('After list modification:',m)\n",
    "display(type(m.a))"
   ]
  },
  {
   "cell_type": "markdown",
   "metadata": {},
   "source": [
    "## Modifying objects in list, and the reference shows modified object"
   ]
  },
  {
   "cell_type": "code",
   "execution_count": null,
   "metadata": {},
   "outputs": [],
   "source": [
    "# modifying a bunch of ndarrays, for example\n",
    "a = np.arange(5,11)\n",
    "b = np.arange(6)\n",
    "for i in [a, b]:\n",
    "    i -= 1\n",
    "a, b"
   ]
  },
  {
   "cell_type": "markdown",
   "metadata": {},
   "source": [
    "## Grouping dataframes "
   ]
  },
  {
   "cell_type": "code",
   "execution_count": null,
   "metadata": {},
   "outputs": [],
   "source": [
    "# reset a multiindex\n",
    "M = pd.MultiIndex.from_product((range(1961,1991), range(1,13)))\n",
    "m = pd.DataFrame({'a':range(30*12)}, index=M)\n",
    "p = pd.Panel({'Had':m, 'CRUT':0 - m})\n",
    "# display(p.Had, p.CRUT)\n",
    "# keep separate dataframes, but apply to list? kinda slow\n",
    "# %timeit (i.groupby(level=1, group_keys=False, squeeze=True).rolling(window=5,center=True).mean() for i in [p.Had, p.CRUT])\n",
    "\n",
    "# make panel? kind of slow; assignment is big one, more than extra layer of indexing\n",
    "#%timeit (p[i].groupby(level=1, group_keys=False, squeeze=True).rolling(window=5,center=True).mean() for i in p)\n",
    "display(p.Had.loc[1975])\n",
    "%timeit for i in p: p[i] = p[i].groupby(level=1, group_keys=False, squeeze=True).rolling(window=5,center=True).mean()\n",
    "for i in p: p[i] += p[i].groupby(level=1, group_keys=False, squeeze=True).rolling(window=5,center=True).mean()\n",
    "display(p.Had.loc[1975])\n",
    "\n",
    "# what if we concatenate two dataframes, instead?\n",
    "c = pd.concat((m, 1-m), axis=1, keys=('Had', 'CRUT'))\n",
    "display(c)\n",
    "%timeit for i in [c]: i += i.groupby(level=1, group_keys=False, squeeze=True).rolling(window=5,center=True).mean()\n",
    "c += c.groupby(level=1, group_keys=False, squeeze=True).rolling(window=5,center=True).mean()\n",
    "\n",
    "#p.apply(lambda x: x.index, axis=('major','minor'))"
   ]
  },
  {
   "cell_type": "markdown",
   "metadata": {},
   "source": [
    "## Dot-referencing DataFrame columns "
   ]
  },
  {
   "cell_type": "code",
   "execution_count": null,
   "metadata": {},
   "outputs": [],
   "source": [
    "# referencing object with multi columns\n",
    "c = pd.concat((m, 1-m), axis=1, keys=('Had', 'CRUT'))\n",
    "# print(c.loc[1970,1], c.Had.a)\n",
    "# and creating new ones with dots!\n",
    "# display(c)\n",
    "for i in c.columns.levels[0]:\n",
    "    c[i, 'b'] = 2*m\n",
    "display(c.columns)"
   ]
  },
  {
   "cell_type": "markdown",
   "metadata": {},
   "source": [
    "## Seasonal mean/working with MultiIndex month/year data"
   ]
  },
  {
   "cell_type": "code",
   "execution_count": null,
   "metadata": {},
   "outputs": [],
   "source": [
    "N = 12*2\n",
    "c = [datetime(1970 + i//12, (i%12)+1, 1) for i in range(N)]\n",
    "z = pd.Index(c)\n",
    "print(z)\n",
    "d = pd.DataFrame(np.random.rand(N), index=c)\n",
    "print(d)\n",
    "# attempt 0\n",
    "m=pd.MultiIndex.from_arrays((d.index.year, d.index.month), names=('year','month'))\n",
    "print(m)\n",
    "q = d.copy()\n",
    "q.index = m\n",
    "print(q)\n",
    "# new attempt\n",
    "a = np.array(c)\n",
    "s = pd.DataFrame(index=a, names)\n",
    "# attempt 1\n",
    "# d = d.groupby((d.index.year, d.index.month)).sum()\n",
    "# print(n)\n",
    "# d.index = d.index.set_names(['year', 'month'])\n",
    "# print(d)\n",
    "# d.index.names = ['year', 'month']\n",
    "# print(d)\n",
    "# # what about starting an empty one?\n",
    "# d = pd.DataFrame(index=c).groupby((c.year, c.month)).sum()\n"
   ]
  },
  {
   "cell_type": "markdown",
   "metadata": {},
   "source": [
    "## Concatenating/adding to dataframe with named vs. unnamed indices of identical value "
   ]
  },
  {
   "cell_type": "markdown",
   "metadata": {},
   "source": [
    "### Evidently passing index as TUPLE VS. NON-TUPLE MATTERS!\n",
    "Perhaps tuples are passed as convenience for some other things, but if you want to build up implicit MultiIndex, must be (1) list of (2) identical-length iterables."
   ]
  },
  {
   "cell_type": "code",
   "execution_count": null,
   "metadata": {},
   "outputs": [],
   "source": [
    "a = pd.DataFrame(dict(a=range(3)), index=[[0,0,0],[1,2,3]])\n",
    "display(a)\n",
    "b = pd.Index([datetime(1970,1,1), datetime(1970,1,2), datetime(1970,1,3)])\n",
    "a = pd.DataFrame(dict(a=range(3)), index=[b.year, b.day])\n",
    "display(a)\n",
    "    # ...actually I'm wrong, must be list or ndarray... but b.year, b.day work because they \n",
    "    # return ndarray, because pandas works HEAVILY/CLOSELY with numpy\n",
    "b.year\n",
    "# assignment time differences: Series vs. stuff\n",
    "N = 12*10\n",
    "c = pd.Index([datetime(1970 + i//12, (i%12)+1, 1) for i in range(N)])\n",
    "m = pd.MultiIndex.from_arrays([c.year, c.month], names=('year','month'))\n",
    "d = pd.DataFrame()\n",
    "# %timeit d['a'] = pd.Series(np.arange(N), index=m)\n",
    "# %timeit d['a'] = np.arange(N)\n",
    "d['a'] = pd.Series(np.arange(N), index=m)\n",
    "# assigning with names vs without\n",
    "q = pd.Series({'b':1}, index=[[1970],[1]])\n",
    "display(d)\n",
    "# %timeit pd.concat((q,d), axis='columns')\n",
    "# %timeit pd.concat((q,d), axis='columns', copy=False)\n",
    "\n",
    "d['b'] = pd.Series([1], index=[[1970],[1]])\n",
    "display(d)\n",
    "d['c'] = pd.DataFrame([1], index=[[1970], [1]])\n",
    "d\n"
   ]
  },
  {
   "cell_type": "markdown",
   "metadata": {},
   "source": [
    "## Subtracting monthly means"
   ]
  },
  {
   "cell_type": "code",
   "execution_count": null,
   "metadata": {},
   "outputs": [],
   "source": [
    "N = 12*30\n",
    "c = pd.Index([datetime(1970 + i//12, (i%12)+1, 1) for i in range(N)])\n",
    "d = pd.DataFrame(np.random.rand(N), index=[c.year, c.month])\n",
    "d.index.names = ('year', 'month')\n",
    "base = d.loc[1980:1990].groupby(level='month').mean()\n",
    "print('Table of monthly means in base period:')\n",
    "display(base)\n",
    "print('Then subtract the table; what happens?')\n",
    "display(d.iloc[:10,:])\n",
    "display((d-base).iloc[:10,:])\n",
    "season_tuple = (c.year + (c.month // 12), (c.month % 12) // 3)\n",
    "d.groupby(season_tuple,group_keys=[2,3,4,5]).mean()"
   ]
  },
  {
   "cell_type": "markdown",
   "metadata": {},
   "source": [
    "## Creating new columns with partially overlapping rows"
   ]
  },
  {
   "cell_type": "code",
   "execution_count": null,
   "metadata": {},
   "outputs": [],
   "source": [
    "# Assigning new data to ONLY CERTAIN ROWS in dataframe\n",
    "N = 12*10\n",
    "index = pd.Index([datetime(1970 + i//12, (i%12)+1, 1) for i in range(N)])\n",
    "d = pd.DataFrame(dict(a=np.random.rand(N)), index=pd.MultiIndex.from_arrays((index.year, index.month)))\n",
    "d.loc[[1970, 1972]] += 5\n",
    "d2 = pd.DataFrame(dict(simple_concat=1), index=[[1970], [1]])\n",
    "d = pd.concat((d, d2),axis=1,join='outer')\n",
    "# Or what about assigning a series? can't make new indices inline, evidently\n",
    "try:\n",
    "    d['from_series'] = pd.Series([1], index=[[1970],[13]])\n",
    "    print(d.loc[1970,13])\n",
    "except:\n",
    "    print('Cannot add new index by Series assignment; only be concatenation, it seems.')\n",
    "    d3 = pd.DataFrame(dict(newrow_concat=[1]), index=[[1970],[13]])\n",
    "    d3.name = ('2','new')\n",
    "    d = pd.concat((d,d3),axis='columns',keys=('a','b'))\n",
    "    # or with join? to handle MultiIndices?\n",
    "#     d.join(d3, on='outer', how='inner')\n",
    "#     dipslay(d)\n",
    "    # print(pd.concat((d,d3),axis=1)) # this FAILS TO WRITE NEW VALUE; \n",
    "    # so .concat can add new column implicitly, but CANNOT add new row implicitly\n",
    "# And adding new series to MultiIndexed thing\n",
    "s = pd.Series(dict(b=[1]),index=[[1970],[2]])\n",
    "s.name = 'b'\n",
    "# d = pd.concat((d, s), axis='columns', join='outer')\n",
    "# display(d)\n",
    "# Times\n",
    "#%timeit d[2,'from_series'] = pd.Series([1], index=[[1970],[13]])\n",
    "#%timeit f = pd.concat((d,d2),axis='columns')\n",
    "# Or, if we concatenate DataFrames with join=oute\n",
    "s = pd.DataFrame(dict(a=range(4)), index=[[0,1,2,3],[0,0,1,1]])\n",
    "s"
   ]
  },
  {
   "cell_type": "code",
   "execution_count": null,
   "metadata": {},
   "outputs": [],
   "source": [
    "# Setup\n",
    "N = 12*10\n",
    "index = pd.Index([datetime(1970 + i//12, (i%12)+1, 1) for i in range(N)])\n",
    "d = pd.DataFrame(dict(a=np.random.rand(N)), index=pd.MultiIndex.from_arrays((index.year, index.month)))\n",
    "pd.MultiIndex.from_product((range(1970,1972),range(1,13))).levels\n",
    "d3\n",
    "d2 = pd.DataFrame(dict(simple_concat=1), index=[[1970], [1]])\n",
    "d = pd.concat((d, d2),axis=1,join='outer')\n",
    "d3 = pd.DataFrame(dict(newrow_concat=[1]), index=[[1970],[13]])\n",
    "d = pd.concat((d,d3),axis='columns',keys=('a','b'))\n",
    "#n1 = pd.concat({**d, ('q','1'):pd.Series([1],index=[[1970],[1]])},axis='columns')\n",
    "# display(dnew)\n",
    "# print({('c',x):dnew[x] for x in dnew})\n",
    "# a = {**d}.update({('c',x):dnew[x] for x in dnew})\n",
    "# display(a)\n",
    "# dict\n",
    "dnew = pd.DataFrame(dict(a=[1]),index=[[1970],[1]])\n",
    "print({**d})\n",
    "%timeit pd.concat({**d, **{('c',nm):val for nm,val in dnew.items()}}, axis='columns')\n",
    "q = pd.concat({**d, **{('c',nm):val for nm,val in dnew.items()}}, axis='columns')\n",
    "display(q)\n",
    "# s = pd.Series([1],index=[[1970],[1]])\n",
    "# d['c','x'] = pd.Series(s)\n",
    "# display(d)\n",
    "# d['d'] = pd.DataFrame({'a':[1]},index=[[1970],[1]])\n",
    "# display(d)\n",
    "# %timeit d['c','x'] = pd.Series(s)\n",
    "# # n2 = pd.concat({**d}.update({('c',x):dnew[x] for x in dnew}))"
   ]
  },
  {
   "cell_type": "code",
   "execution_count": null,
   "metadata": {},
   "outputs": [],
   "source": [
    "import scipy.stats as st\n",
    "print(d.index.get_level_values(0))\n",
    "print(d['a','a'].values.ravel())\n",
    "print(d.shape)\n",
    "print(list(zip(*d.index.values))[0])\n",
    "st.linregress(list(zip(*d.index.values))[0],d['a','a'].values)\n",
    "d.groupby(level=0).rolling(window=5).apply(lambda x: st.linregress(range(x.size),x)[0])"
   ]
  },
  {
   "cell_type": "code",
   "execution_count": null,
   "metadata": {},
   "outputs": [],
   "source": [
    "# some math\n",
    "omega = 7.2921159e-5\n",
    "R = 6371.0e3\n",
    "beta = lambda lat: 2*omega*np.cos(lat*np.pi/180)/R\n",
    "cor = lambda lat: 2*omega*np.sin(lat*np.pi/180)\n",
    "print(beta(30), beta(50))\n",
    "print(cor(30), cor(50))\n",
    "# distance\n",
    "print('%.3e' % (R*10*np.pi/180))\n",
    "# quadratic interpolation\n",
    "import scipy.interpolate as pol\n",
    "i = [0, 5, 10] # distances in latitude\n",
    "samp = [40, 45, 40]\n",
    "samp = [25, 20, 17.5]\n",
    "f = np.polyfit([j*R*np.pi/180 for j in i],samp, 2)\n",
    "f\n",
    "# scale height\n",
    "287*220/9.80665\n",
    "np.log(1000/200) - np.log(1000/500)\n",
    "Zdiff = lambda a,b: np.log(1000/a) - np.log(1000/b)\n",
    "print(Zdiff(300,400))\n",
    "# change\n",
    "1.0e6\n"
   ]
  },
  {
   "cell_type": "markdown",
   "metadata": {},
   "source": [
    "## Rolling mean on groupby object"
   ]
  },
  {
   "cell_type": "code",
   "execution_count": null,
   "metadata": {},
   "outputs": [],
   "source": [
    "N = 12*60\n",
    "index = pd.Index([datetime(1970 + i//12, (i%12)+1, 1) for i in range(N)])\n",
    "d = pd.DataFrame(dict(a=np.random.rand(N)), index=pd.MultiIndex.from_arrays((index.year, index.month),names=('year','month')))\n",
    "f = d.groupby(level=1,group_keys=False).rolling(window=3,center=True).mean()\n",
    "f.sortlevel(level='year')\n",
    "    # use this to re-sort by a level"
   ]
  },
  {
   "cell_type": "code",
   "execution_count": null,
   "metadata": {},
   "outputs": [],
   "source": []
  },
  {
   "cell_type": "code",
   "execution_count": null,
   "metadata": {},
   "outputs": [],
   "source": [
    "a = {'a':1, 'b':5}\n",
    "a['a'] *= 2\n",
    "a"
   ]
  },
  {
   "cell_type": "markdown",
   "metadata": {},
   "source": [
    "# Misc testing"
   ]
  },
  {
   "cell_type": "code",
   "execution_count": null,
   "metadata": {},
   "outputs": [],
   "source": [
    "# getting series or dataframe\n",
    "a = pd.DataFrame({'one':[1,2,3], 'two':[4,5,6]})\n",
    "a.index = [1,2,1]\n",
    "display('Indexing for series vs. singleton dataframe:',type(a['one']))\n",
    "display(type(a[['one']]))\n",
    "d.iloc[1::12]\n",
    "s = pd.Series(range(12))\n",
    "s[::2]\n",
    "d\n",
    "d.index.levels[d.index.names.index('year')]"
   ]
  },
  {
   "cell_type": "code",
   "execution_count": null,
   "metadata": {},
   "outputs": [],
   "source": [
    "a, b = np.meshgrid(range(5),range(5,10))\n",
    "a, b = a.ravel(), b.ravel()\n",
    "a, b\n",
    "d.index.levels[0][d.index.labels[0]]\n",
    "d.index.get_level_values(1)\n",
    "# import matplotlib.pyplot as plt\n",
    "plt.plot(d.index.get_level_values('year'),d.a)\n",
    "plt.show()\n",
    "d.index.get_level_values(0)[::12]"
   ]
  },
  {
   "cell_type": "code",
   "execution_count": null,
   "metadata": {},
   "outputs": [],
   "source": []
  },
  {
   "cell_type": "code",
   "execution_count": null,
   "metadata": {},
   "outputs": [],
   "source": [
    "# meshgrid behavior -- using lon as arg1, lat as arg2 puts lons on \n",
    "# ROWS, lats on COLUMNS (because row-major)... and this is what we \n",
    "# actually want for coordinates\n",
    "from mpl_toolkits.basemap import Basemap\n",
    "m = Basemap(projection='moll', lon_0=0, resolution='c')\n",
    "lon = np.arange(-180,181,60)\n",
    "lat = np.arange(-90,91,30)\n",
    "lon2d, lat2d = np.meshgrid(lon, lat)\n",
    "x, y = m(lon2d, lat2d)\n",
    "lon2d, lat2d\n",
    "# slice(1,5).indices()\n",
    "np.array([1,2,3])[range(2)]\n",
    "[i for i in slice(5)]\n"
   ]
  },
  {
   "cell_type": "code",
   "execution_count": null,
   "metadata": {},
   "outputs": [],
   "source": [
    "# copying dataframe objects; must use .copy()\n",
    "d1 = pd.DataFrame({'a':[1]})\n",
    "d2 = d1.copy()\n",
    "d1['a'] = 2\n",
    "display('With copy:',d1)\n",
    "display(d2)\n",
    "# no copy\n",
    "d1 = pd.DataFrame({'a':[1]})\n",
    "d2 = d1\n",
    "d1['a'] = 2\n",
    "display('Without copy:',d1)\n",
    "display(d2)"
   ]
  },
  {
   "cell_type": "code",
   "execution_count": null,
   "metadata": {},
   "outputs": [],
   "source": [
    "# pcolor: provide color polygon boundaries, and data to fill them\n",
    "# also remember python is row-major; so rows of visual array match x\n",
    "a = np.random.rand(5,5)\n",
    "print(a)\n",
    "print(a.ravel())\n",
    "fig, ax = plt.subplots()\n",
    "ax.pcolor(np.array([1,2,3,4]),np.array([1,2,3]), \n",
    "           np.random.rand(2,3))\n",
    "plt.show()"
   ]
  },
  {
   "cell_type": "markdown",
   "metadata": {},
   "source": [
    "# Utils testing"
   ]
  },
  {
   "cell_type": "code",
   "execution_count": null,
   "metadata": {},
   "outputs": [],
   "source": [
    "help(fig.tight_layout)\n",
    "fig, ax = plt.subplots(2,2)\n",
    "fig.tight_layout()\n",
    "plt.show()\n",
    "help(fig.colorbar)"
   ]
  },
  {
   "cell_type": "code",
   "execution_count": null,
   "metadata": {},
   "outputs": [],
   "source": [
    "def completeyears(dt, startmonth=1):\n",
    "    \"\"\"\n",
    "    Input...\n",
    "        dt (positional, required): an ndarray of datetime objects\n",
    "        startmonth (kw, optional): the starting month characterizing a \"complete\" \n",
    "            year (1 is default, but 12 is also common)\n",
    "    Returns...\n",
    "     1) list of filtered datetimes\n",
    "     2) boolean ndarray vector that can be used to filter out complete years\n",
    "        given some ndarray of ***monthly*** observation datetimes.\n",
    "    \"\"\"\n",
    "    # some basic stuff\n",
    "    vfunc = np.vectorize(lambda dt: dt.month)\n",
    "    endmonth = ((startmonth - 2) % 12) + 1\n",
    "    # get filter\n",
    "    print(startmonth, endmonth, vfunc(dt))\n",
    "    m_idstart = np.where(vfunc(dt)==startmonth)[0][0]\n",
    "    m_idend = np.where(vfunc(dt)==endmonth)[0][-1]\n",
    "    filt = np.arange(m_idstart, m_idend+1)\n",
    "    \n",
    "    return dt[filt], filt\n",
    "        # returns only up to the last instance of last month\n"
   ]
  },
  {
   "cell_type": "code",
   "execution_count": null,
   "metadata": {},
   "outputs": [],
   "source": [
    "# Decomposing output\n",
    "def f():\n",
    "    return 1, (2, 3)\n",
    "_, (_, b) = f()\n",
    "print(b)"
   ]
  },
  {
   "cell_type": "code",
   "execution_count": null,
   "metadata": {},
   "outputs": [],
   "source": [
    "# Splitting stuff into pieces\n",
    "a = np.random.randn(3,3)\n",
    "print(a)\n",
    "b = np.split(a, (1,2), axis=0)\n",
    "    # can use integer for equal division, or tuple/list\n",
    "    # division points (e.g. 1 splits 0 and 1:)\n",
    "for i,b in enumerate(b):\n",
    "    print(i, b)"
   ]
  },
  {
   "cell_type": "code",
   "execution_count": null,
   "metadata": {},
   "outputs": [],
   "source": [
    "# np.where behavior\n",
    "np.where(np.array([1,2,3])==4)[0]\n",
    "print(not np.array([]))\n",
    "print(not np.array([0]))\n",
    "for a in np.array([1,2,3]):\n",
    "    print(type(a))"
   ]
  },
  {
   "cell_type": "code",
   "execution_count": null,
   "metadata": {},
   "outputs": [],
   "source": [
    "list(globals().keys())"
   ]
  },
  {
   "cell_type": "code",
   "execution_count": null,
   "metadata": {},
   "outputs": [],
   "source": []
  },
  {
   "cell_type": "code",
   "execution_count": null,
   "metadata": {},
   "outputs": [],
   "source": [
    "# Generate monthly datetime sequence\n",
    "a = np.array([datetime(2000,5,1)])\n",
    "for i in range(1,48):\n",
    "    a = np.append(a,datetime(a[-1].year + a[-1].month//12, (a[-1].month % 12)+1, a[-1].day))"
   ]
  },
  {
   "cell_type": "code",
   "execution_count": null,
   "metadata": {},
   "outputs": [],
   "source": [
    "print(completeyears(a, startmonth=5))"
   ]
  },
  {
   "cell_type": "code",
   "execution_count": null,
   "metadata": {},
   "outputs": [],
   "source": [
    "def mesh(lon, lat):\n",
    "    '''\n",
    "    Gets graticule for full globe of longitude, latitude data.\n",
    "    '''\n",
    "    # fix lons\n",
    "    lodiff = lon[1]-lon[0]\n",
    "    hidiff = lon[-1]-lon[-2]\n",
    "    lon = np.concatenate((\n",
    "            np.array([lon[0]-lodiff/2]), (lon[1:]+lon[:-1])/2, np.array([lon[-1]+hidiff/2])\n",
    "            ))\n",
    "    # fix lats\n",
    "    lat = np.concatenate((\n",
    "            np.array([-90]), (lat[1:]+lat[:-1])/2, np.array([90])\n",
    "            ))\n",
    "    return lon, lat\n",
    "\n",
    "testlon = np.arange(-180., 180., 30.)\n",
    "testlat = np.arange(-85., 85.1, 10.)\n",
    "mesh(testlon, testlat)"
   ]
  },
  {
   "cell_type": "markdown",
   "metadata": {},
   "source": [
    "# Pandas testing"
   ]
  },
  {
   "cell_type": "code",
   "execution_count": null,
   "metadata": {},
   "outputs": [],
   "source": [
    "import pandas as pd\n",
    "import os\n",
    "d = os.getcwd()\n",
    "d = d + '/Google Drive/Research/Project_LandSeaContrast'\n",
    "os.listdir(d)\n",
    "eri = pd.read_table(d + '/eri.txt',usecols=(5,6,7),skiprows=9,header=None,delim_whitespace=True) #, usecols=(6,7,8))\n",
    "eri.values\n",
    "#eri"
   ]
  },
  {
   "cell_type": "markdown",
   "metadata": {},
   "source": [
    "# Graphics testing"
   ]
  },
  {
   "cell_type": "code",
   "execution_count": null,
   "metadata": {},
   "outputs": [],
   "source": [
    "# do new graphics reset the axes title, labels, etc?\n",
    "import matplotlib.pyplot as plt\n",
    "a = np.random.rand(5,5)\n",
    "fig, ax = plt.subplots()\n",
    "ax.plot(a)\n",
    "plt.title('abcef')\n",
    "ax.plot(a)\n",
    "plt.show()\n",
    "fig, ax = plt.subplots()\n",
    "p=ax.pcolor(a,cmap='Greys',clim=(0,0.5))\n",
    "fig.colorbar(p)"
   ]
  },
  {
   "cell_type": "code",
   "execution_count": null,
   "metadata": {},
   "outputs": [],
   "source": []
  }
 ],
 "metadata": {
  "kernelspec": {
   "display_name": "Python 3",
   "language": "python",
   "name": "python3"
  },
  "language_info": {
   "codemirror_mode": {
    "name": "ipython",
    "version": 3
   },
   "file_extension": ".py",
   "mimetype": "text/x-python",
   "name": "python",
   "nbconvert_exporter": "python",
   "pygments_lexer": "ipython3",
   "version": "3.6.3"
  },
  "toc": {
   "colors": {
    "hover_highlight": "#ece260",
    "running_highlight": "#ff5d59",
    "selected_highlight": "#fff968"
   },
   "moveMenuLeft": false,
   "nav_menu": {
    "height": "423px",
    "width": "252px"
   },
   "navigate_menu": true,
   "number_sections": true,
   "sideBar": true,
   "threshold": 4,
   "toc_cell": false,
   "toc_section_display": "block",
   "toc_window_display": true,
   "widenNotebook": false
  }
 },
 "nbformat": 4,
 "nbformat_minor": 2
}
