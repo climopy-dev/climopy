{
 "cells": [
  {
   "cell_type": "markdown",
   "metadata": {},
   "source": [
    "# Imports"
   ]
  },
  {
   "cell_type": "code",
   "execution_count": null,
   "metadata": {},
   "outputs": [],
   "source": [
    "import proplot as plot\n",
    "import climpy\n",
    "import numpy as np\n",
    "import numpy.fft as fft\n",
    "import scipy.signal as signal\n",
    "import matplotlib.ticker as mticker\n",
    "plot.nbsetup()"
   ]
  },
  {
   "cell_type": "code",
   "execution_count": null,
   "metadata": {},
   "outputs": [],
   "source": [
    "f['t'].dims"
   ]
  },
  {
   "cell_type": "code",
   "execution_count": null,
   "metadata": {},
   "outputs": [],
   "source": [
    "f['u'].sum(dim=('time','plev','lat'))"
   ]
  },
  {
   "cell_type": "code",
   "execution_count": null,
   "metadata": {},
   "outputs": [],
   "source": [
    "del f['t']"
   ]
  },
  {
   "cell_type": "code",
   "execution_count": null,
   "metadata": {},
   "outputs": [],
   "source": [
    "f = climpy.xr.open_dataset('/Users/ldavis/data/eraint/climate1980-2015.nc', decode_times=False).squeeze()\n",
    "f['t']"
   ]
  },
  {
   "cell_type": "code",
   "execution_count": null,
   "metadata": {},
   "outputs": [],
   "source": [
    "climpy.deriv1_uneven(1, [1, 2, 3], keepedges=False, axis=0)"
   ]
  },
  {
   "cell_type": "markdown",
   "metadata": {},
   "source": [
    "# EOF R^2 proof\n",
    "This proves that the R^2 values obtained from projecting the PC onto each gridpoint, when summed across the grid, exactly equal\n",
    "the eigenvalue (i.e. the variance explained)."
   ]
  },
  {
   "cell_type": "code",
   "execution_count": null,
   "metadata": {},
   "outputs": [],
   "source": [
    "data = (np.random.rand(100,5) - 0.5).cumsum(axis=0)\n",
    "data = data - data.mean(axis=0, keepdims=True)\n",
    "var = data.var(axis=0)"
   ]
  },
  {
   "cell_type": "code",
   "execution_count": null,
   "metadata": {},
   "outputs": [],
   "source": [
    "evals, nstar, proj, pcs = climpy.eof(data, record=0, space=1)"
   ]
  },
  {
   "cell_type": "code",
   "execution_count": null,
   "metadata": {},
   "outputs": [],
   "source": [
    "evals\n",
    "covar = (data.T @ data) / data.shape[0]\n",
    "total = np.trace(covar)\n",
    "evars = (evals*total/100)\n",
    "# evar, evar.sum()"
   ]
  },
  {
   "cell_type": "code",
   "execution_count": null,
   "metadata": {},
   "outputs": [],
   "source": [
    "evars.sum(), var.sum(), total"
   ]
  },
  {
   "cell_type": "code",
   "execution_count": null,
   "metadata": {},
   "outputs": [],
   "source": [
    "# pc = pcs[0,:]\n",
    "for evar,pc in zip(evars,pcs):\n",
    "    data_a = data - data.mean(axis=0, keepdims=True)\n",
    "    rsquare = ((data_a*pc).sum(axis=0))**2 / ((data_a**2).sum(axis=0) * (pc**2).sum(axis=0))\n",
    "    print(evar, (var*rsquare).sum())"
   ]
  },
  {
   "cell_type": "markdown",
   "metadata": {},
   "source": [
    "# Libby"
   ]
  },
  {
   "cell_type": "code",
   "execution_count": null,
   "metadata": {},
   "outputs": [],
   "source": [
    "%run ./climpy/libby/butterworth_lanczos_example.py"
   ]
  },
  {
   "cell_type": "code",
   "execution_count": null,
   "metadata": {},
   "outputs": [],
   "source": [
    "%run ./climpy/libby/testing_degrees_of_freedom_factors.py"
   ]
  },
  {
   "cell_type": "code",
   "execution_count": null,
   "metadata": {},
   "outputs": [],
   "source": [
    "%run ./climpy/libby/testing_spectral_significance.py"
   ]
  },
  {
   "cell_type": "code",
   "execution_count": null,
   "metadata": {},
   "outputs": [],
   "source": [
    "%run ./climpy/libby/seasonal_cycle_filtering_FFT.py"
   ]
  },
  {
   "cell_type": "markdown",
   "metadata": {},
   "source": [
    "# Red noise and trends"
   ]
  },
  {
   "cell_type": "code",
   "execution_count": null,
   "metadata": {},
   "outputs": [],
   "source": [
    "d = climpy.rednoise(500, 0.98, init=[-3,0,3], samples=3)\n",
    "# d = climpy.rednoise(500, 0.99, init=0, samples=[3,3])\n",
    "r = climpy.rolling(d, 50, axis=0, fillvalue=np.nan)\n",
    "s = climpy.linefit(d, axis=0, build=True)\n",
    "fit = climpy.linefit(d, axis=0, stderr=True)\n",
    "print(fit)\n",
    "# l = climpy.lanczos(30)\n",
    "f, ax = plot.subplots()\n",
    "for i in range(d.shape[1]):\n",
    "    color = f'C{i}'\n",
    "    h = ax.plot(d[:,i], color=color)\n",
    "    h = ax.plot(r[:,i], color=color, alpha=.5, ls='--')\n",
    "    h = ax.plot(s[:,i], color=color, alpha=.2, lw=2)\n",
    "ax.format(xlabel='x', ylabel='y', title='Red noise with window and line fit')"
   ]
  },
  {
   "cell_type": "markdown",
   "metadata": {},
   "source": [
    "# EOFs\n",
    "In future, need to supply data that actually has *memory* or some kind of feedback."
   ]
  },
  {
   "cell_type": "markdown",
   "metadata": {},
   "source": [
    "## 1D\n",
    "First try it out on a simple time series, for proof of concept. "
   ]
  },
  {
   "cell_type": "code",
   "execution_count": null,
   "metadata": {},
   "outputs": [],
   "source": [
    "import climpy\n",
    "import numpy as np\n",
    "import proplot as plot\n",
    "plot.nbsetup()\n",
    "def eofdata(nx, nt, alpha=0.95, scale1=1, scale2=1): # scales can be scalar, or space vectors\n",
    "    # Get artificial EOF data. Note scale1/scale2 ***must be compatible shape***. You can make them 3D, singleton\n",
    "    # 2-righthand dimensions, and that simulates creating another spatial dimension\n",
    "    # Construct a see-saw of scale factors, varying from some number **smaller** than zero to **larger** than zero, and the \n",
    "    # **position** of the **center** of that see-saw (i.e. where factors equal 1) is a red noise time series.\n",
    "    # Actually it didn't work and was dumb, nevermind\n",
    "    # mid = climpy.rednoise(nt, 0.95, mean=np.pi/4, stdev=np.pi/24)\n",
    "    # data = data*(1 + ((x[:,None] - mid[None,:]))) # so the scaling looks more linear\n",
    "    \n",
    "    # Just impose a random *phase* and *amplitude*.\n",
    "    x = np.linspace(0, np.pi/2, nx)\n",
    "    t = np.linspace(0, nt/4, nt)\n",
    "    # scale1, scale2 = np.atleast_1d(scale1), np.atleast_1d(scale2)\n",
    "    phase = climpy.rednoise(nt, alpha, mean=0, stdev=np.pi/12)\n",
    "    amplitude = climpy.rednoise(nt, alpha, mean=1, stdev=0.2)\n",
    "    data = scale2*amplitude[None,:]*np.sin(scale1*phase[None,:] + (x*2)[:,None])**2 # big scale equals strong phase effect\n",
    "    return x, t, data"
   ]
  },
  {
   "cell_type": "code",
   "execution_count": null,
   "metadata": {},
   "outputs": [],
   "source": [
    "import numpy as np\n",
    "import climpy\n",
    "import proplot as plot\n",
    "plot.nbsetup()\n",
    "# Coordinates\n",
    "# Note shape will be x by time\n",
    "t, x, data = eofdata(500, 500, alpha=0.98) # 500 x, 500 times\n",
    "\n",
    "# Next get the EOFs\n",
    "evals, nstar, projs, pcs = climpy.eof(data, record=-1, space=[-2], neof=5)\n",
    "print('Data', data.shape)\n",
    "print('Evals', evals.shape, 'Nstar', nstar.shape, 'Projection', projs.shape, 'PCs', pcs.shape)\n",
    "\n",
    "# Plot data\n",
    "f, ax = plot.subplots(axwidth=4, bottomcolorbar=True, innerpanels='r', innerpanels_kw={'wwidth':1}, aspect=1.3)\n",
    "m = ax.contourf(x, t, data, cmap='sunset')\n",
    "ax.format(xlabel='coordinate', ylabel='time', title='Time series')\n",
    "res = f.bpanel.colorbar(m, clabel='magnitude')\n",
    "h1, = ax.rpanel.plot(pcs[0,0,:], t, color='pink5', label='EOF1')\n",
    "h2, = ax.rpanel.plot(pcs[1,0,:], t, color='yellow5', label='EOF2')\n",
    "ax.rpanel.legend([h1, h2], entire=False, ncols=1, frameon=True, framealpha=0.8)\n",
    "ax.rpanel.format(title='PC series')\n",
    "\n",
    "# And plot them\n",
    "f, ax = plot.subplots(axwidth=3)\n",
    "h1, = ax.plot(x, projs[0,:,0], color='red7', linewidth=2, label='EOF1')\n",
    "h2, = ax.plot(x, projs[1,:,0], color='blue7', linewidth=2, label='EOF2')\n",
    "h2, = ax.plot(x, projs[2,:,0], color='gray5', linewidth=2, label='EOF3')\n",
    "h3, = ax.plot(x, projs[3,:,0], color='gray5', linewidth=5, label='EOF4')\n",
    "ax.axhline(0, color='k', ls='--', lw=2)\n",
    "ax.format(xlabel='coordinate', ylabel='time', title='EOFs')\n",
    "l = ax.legend(ncols=2)"
   ]
  },
  {
   "cell_type": "markdown",
   "metadata": {},
   "source": [
    "## ND\n",
    "We try getting EOF with *arbitrary* sample dimensions and *arbitrary* sampling dimension, then allow extra \"N\" dimensions.\n",
    "Here, idea is we have **x by y by time by lat by lon** data, where the first 2 are random dummy \"extra\" dims."
   ]
  },
  {
   "cell_type": "code",
   "execution_count": null,
   "metadata": {},
   "outputs": [],
   "source": [
    "import numpy as np\n",
    "import climpy\n",
    "import proplot as plot\n",
    "import scipy.stats as st\n",
    "plot.nbsetup()\n",
    "# New method, we just take the vector from above and tile it with varying scale factors\n",
    "# Let's say the position EOF is strong on top, and the strength EOF is strongest on the bottom\n",
    "nx, nt = 15, 100\n",
    "ny = 15\n",
    "# offset = 0 # will make lopsided scaling to one side\n",
    "m1, m2 = 1.5, -1.5\n",
    "scales1 = st.norm(m1, 1).pdf(np.linspace(-2, +2, ny)) # Gaussian curves\n",
    "scales2 = st.norm(m2, 1).pdf(np.linspace(-2, +2, ny))\n",
    "scales1 /= scales1.mean()\n",
    "scales2 /= scales2.mean()\n",
    "# scales1 = 2**(offset + np.linspace(-1, 1, ny)) # stronger on top\n",
    "# scales2 = 2**(-offset + np.linspace(-1, 1, ny))\n",
    "scales1 = scales1[:,None,None] # scale on an *extra dimension*\n",
    "scales2 = scales2[:,None,None]\n",
    "\n",
    "# Get data and scale it\n",
    "x, t, data = eofdata(nx, nt, scale1=scales1, scale2=scales2)\n",
    "y = x # the extra dimension; use same coordinates\n",
    "\n",
    "# Get the EOFs\n",
    "evals, nstar, projs, pcs = climpy.eof(data, record=-1, space=(-3,-2), neof=5, debug=True)\n",
    "print('Data', data.shape)\n",
    "print('Evals', evals.shape, 'Nstar', nstar.shape, 'Projection', projs.shape, 'PCs', pcs.shape)\n",
    "f, axs = plot.subplots(innercolorbars='b', axwidth=3, ncols=2, span=0, share=0, wspace=0.5)\n",
    "nlev = 11\n",
    "data1 = projs[0,:,:,0].T\n",
    "data2 = projs[1,:,:,0].T \n",
    "# data2 -= 10*projs[1,:,:,0].mean() # tests the 'zero' normalizer\n",
    "m1 = axs[0].contourf(x, y, data1, cmap='Sunset', levels=nlev, extend='both')\n",
    "m2 = axs[1].contourf(x, y, data2, cmap='NegPos', norm='zero', levels=nlev, extend='both')\n",
    "axs[0].format(title='EOF1')\n",
    "axs[1].format(title='EOF2')\n",
    "axs.format(xlabel='x', ylabel='y')\n",
    "res = axs[0].bottompanel.colorbar(m1)\n",
    "res = axs[1].bottompanel.colorbar(m2)\n"
   ]
  },
  {
   "cell_type": "code",
   "execution_count": null,
   "metadata": {},
   "outputs": [],
   "source": [
    "print(data.shape)\n",
    "data2 = np.swapaxes(data, 0, 2)\n",
    "data2 = data2[:,:,:,None]\n",
    "print(data2.shape)\n",
    "evals, nstar, projs, pcs = climpy.eof(data2, record=0, space=(1,2), neof=5, debug=True)\n",
    "print(evals.shape, nstar.shape, projs.shape, pcs.shape)"
   ]
  },
  {
   "cell_type": "code",
   "execution_count": null,
   "metadata": {},
   "outputs": [],
   "source": [
    "import xarray as xr\n",
    "f = xr.Dataset({'u':(('lon','lat'),np.random.rand(5,5))})\n",
    "for i in f.variables.keys():\n",
    "    print(i)"
   ]
  },
  {
   "cell_type": "code",
   "execution_count": null,
   "metadata": {},
   "outputs": [],
   "source": [
    "f = xr.open_dataset('/Users/ldavis/data/eraint/climate1980-2015.nc', chunks={'time':1}, decode_times=False)\n",
    "f"
   ]
  },
  {
   "cell_type": "code",
   "execution_count": null,
   "metadata": {},
   "outputs": [],
   "source": [
    "for name in f.keys():\n",
    "    print(name)"
   ]
  },
  {
   "cell_type": "code",
   "execution_count": null,
   "metadata": {},
   "outputs": [],
   "source": [
    "w = np.array([1, 1, 4])\n",
    "x = np.array([0, 1, 2])\n",
    "np.mean(x*w/w.mean())"
   ]
  },
  {
   "cell_type": "code",
   "execution_count": null,
   "metadata": {},
   "outputs": [],
   "source": [
    "f, ax = plot.subplots(bottomcolorbar=True, axwidth=2.5)\n",
    "n = 15\n",
    "data = np.random.rand(n,n).cumsum(axis=0)\n",
    "data\n",
    "m = ax.contourf(data, levels=21, cmap='turquoise', extend='neither')\n",
    "c = f.bpanel.colorbar(m)"
   ]
  },
  {
   "cell_type": "markdown",
   "metadata": {},
   "source": [
    "# Spectral Filtering"
   ]
  },
  {
   "cell_type": "markdown",
   "metadata": {},
   "source": [
    "## Lanczos and Butterworth"
   ]
  },
  {
   "cell_type": "code",
   "execution_count": null,
   "metadata": {},
   "outputs": [],
   "source": [
    "x = np.linspace(0,20,1000) # 20 days, but with tons of data in-between\n",
    "d = climpy.waves(x, wavelens=[1, 2])"
   ]
  },
  {
   "cell_type": "code",
   "execution_count": null,
   "metadata": {},
   "outputs": [],
   "source": [
    "# Fake data\n",
    "plot.globals('title', weight='bold')\n",
    "plot.globals('suptitle', weight='bold')\n",
    "n = 501\n",
    "wsample = 10\n",
    "cutoff = 1.2\n",
    "cutoff2 = 0.5\n",
    "waves = [0.3, 0.7, 2]\n",
    "x = np.linspace(0,wsample,n) # 20 days, but with tons of data in-between\n",
    "data = climpy.waves(x, np.array(waves), phase=None)\n",
    "# Iterate\n",
    "filters = ['lanczos', 'butterworth']\n",
    "# filters = ['butterworth', 'lanczos']\n",
    "# filters = ['butterworth']\n",
    "for filt in filters:\n",
    "    # Create filters\n",
    "    dx = x[1]-x[0]\n",
    "    if filt=='lanczos':\n",
    "        wfilter = 2\n",
    "        w = climpy.lanczos(dx, wfilter, cutoff)\n",
    "        w2 = climpy.lanczos(dx, wfilter, cutoff2)\n",
    "        suptitle = f'{wfilter}-day Lanczos filter'\n",
    "        # suptitle = f'{len(w[0])}-day Lanczos filter'\n",
    "        # w, w2 = [w], [w2]\n",
    "    elif filt=='butterworth':\n",
    "        wfilter = 11 # should be odd-numbered\n",
    "        w = climpy.butterworth(dx, wfilter, cutoff)\n",
    "        w2 = climpy.butterworth(dx, wfilter, cutoff2)\n",
    "        suptitle =  f'order-{len(w[1])} Butterworth filter'\n",
    "    colors = ('red5', 'blue5')\n",
    "    nf = 2 if filt=='butterworth' else 1 # in *this case*, for display purposes, need to prevent shifting to left or right\n",
    "    # Preparation for drawing\n",
    "    radians = False\n",
    "    scale = 2*np.pi if radians else 1\n",
    "    cutoffs = (cutoff,cutoff2)\n",
    "    weights = (w,w2)\n",
    "    # Draw stuff\n",
    "    f, axs = plot.subplots(right=0.2, left=0.7, top=0.5, array=[[1],[0],[3],[4]], hratios=(1,-.25,1,1),\n",
    "                           sharex=False, spany=False, hspace=.7, aspect=2)\n",
    "    ax = axs[1]\n",
    "    for ic,iw,color in zip(cutoffs,weights,colors):\n",
    "        # s, r = climpy.lanczos(width, ic, dx, response=True)\n",
    "        s, r = climpy.response(dx, *iw) # b and a coefficients, or maybe just b\n",
    "        # print(s.max()), print(x.max())\n",
    "        s = s*scale # optionally convert to radians\n",
    "        r = r.copy()\n",
    "        h = ax.plot(s, r, color=color, lw=2)\n",
    "        ax.axvline(scale/ic, color='k', ls='--', lw=2, alpha=0.5) # the cutoff wavelenghs, converted to wavenumber\n",
    "    xlim = [1e-1, 5]\n",
    "    if not radians: # wavenumbers on x-axis\n",
    "        xlocator = 1 # frequencies of interest\n",
    "        xlabel = 'wavenumber (day$^{-1}$)'\n",
    "        xformatter = None\n",
    "    else: # frequency in radians on x-axis\n",
    "        xlim[1] *= np.pi\n",
    "        xlocator = plot.arange(0,np.pi*8,np.pi*0.5) # frequencies of interest\n",
    "        xlabel = 'frequency (rad day$^{-1}$)'\n",
    "        xformatter=plot.PiFormatter()\n",
    "    ax.format(xscale='linear', xlim=xlim, xlocator=xlocator, xtickminor=False,\n",
    "              xformatter=xformatter, ylim=(-.1,1.1),\n",
    "              xlabel=xlabel, ylabel='Window coefficients') # frequency i.e. radians per time unit\n",
    "    # xlocator = np.array([0.1, 0.5, 1, 5, 10])\n",
    "    xlocator = np.array([0.1, 0.5, 1, 5])\n",
    "    ax2 = ax.twinx()\n",
    "    ax2.format(xscale='inverse', xlim=xlim,\n",
    "               xlabel='wavelength (day)', xlocator=xlocator, title='Response function',\n",
    "               xtickdir='in', # xticklabeldir='in',\n",
    "               xtickminor=True, xgrid=True, xgridminor=False)\n",
    "    ax2.xaxis.grid(False, which='major')\n",
    "    ax2.title.update({'position':(0.5,1.1)})\n",
    "    for tick in ax2.xaxis.majorTicks:\n",
    "        tick.gridline.set_visible(False)\n",
    "    # Impulse response\n",
    "    ax = axs[0]\n",
    "    idata = data.copy()\n",
    "    idata[:] = 0\n",
    "    idata[0] = 1\n",
    "    idata[len(idata)//2] = 1\n",
    "    ifilter = climpy.filter(idata, *w, n=nf, axis=0, fix=False)\n",
    "    ifilter2 = climpy.filter(idata, *w2, n=nf, axis=0, fix=False)\n",
    "    ax.plot(x, idata, color='k', label='raw', alpha=0.8)\n",
    "    ax.plot(x, ifilter, color=colors[0], alpha=0.8, ls='-', lw=2, label='lowpass 1')\n",
    "    ax.plot(x, ifilter2, color=colors[1], alpha=0.8, ls='-', lw=2, label='lowpass 2')\n",
    "    ax.legend()\n",
    "    ylim = max(np.nanmax(np.abs(ifilter)), np.abs(np.nanmax(ifilter2)))*1.1\n",
    "    ax.format(xlim=(0,x.max()), suptitle=suptitle,\n",
    "              xlabel='x (day)', ylabel='response', title='Impulse response', ylim=(-ylim, ylim))\n",
    "    # Next play with sample data\n",
    "    # Can show that, given some weights, lfilter does exact same thing as rolling() function\n",
    "    # lanczos_roll = climpy.rolling(data, w, axis=0)\n",
    "    # lanczos_roll2 = climpy.rolling(data, w2, axis=0)\n",
    "    ax = axs[2]\n",
    "    lfilter = climpy.filter(data, *w, n=nf, axis=0) # with builtin signal method\n",
    "    lfilter2 = climpy.filter(data, *w2, n=nf, axis=0)\n",
    "    ax.plot(x, data, color='gray5', label='raw', alpha=0.8)\n",
    "    # ax.plot(x, lanczos_roll, color='r', alpha=1, ls='--', lw=2, label='Lanczos')\n",
    "    # ax.plot(x, data-lanczos_roll2, color='orange', alpha=0.2, ls='-', lw=2, label='Lanczos')\n",
    "    # ax.plot(x, lanczos_roll2-lanczos_roll, color='indigo5', alpha=1, ls='-', lw=2) # bandpass attempt\n",
    "    ax.plot(x, lfilter, color='r', alpha=0.8, ls='-', lw=2, label='lowpass') # capture low-freq oscillation\n",
    "    ax.plot(x, data - lfilter2, color='orange', alpha=0.2, ls='-', lw=2, label='highpass') # capture high-freq oscillation\n",
    "    ax.plot(x, lfilter2 - lfilter, color='indigo5', alpha=0.8, ls='-', lw=2, label='bandpass') # capture middle oscillation\n",
    "    ax.format(xlabel='x (day)', ylabel='y', title='Sample data',\n",
    "              # ylim=(-.01,.01), yformatter=plot.Formatter(precision=3),\n",
    "             )\n",
    "    ax.legend(ncols=4)\n",
    "    f.save(f'{filt}_display.pdf')"
   ]
  },
  {
   "cell_type": "markdown",
   "metadata": {},
   "source": [
    "## Coefficients"
   ]
  },
  {
   "cell_type": "code",
   "execution_count": null,
   "metadata": {},
   "outputs": [],
   "source": [
    "# Copied from above, use this to plot coefficients -- not really needed because a-coeffs tell us nothing and the non-recursive\n",
    "# b coefficients show up *exactly* (not approximately) in an impulse response plot\n",
    "# Dummy plot\n",
    "ax = axs[0]\n",
    "labels = [0,0]\n",
    "for ic,iw in zip(colors,weights):\n",
    "    for j,jw,hue,coef in zip((0,1),iw,('gray','red'),('b','a')):\n",
    "        if not (hasattr(jw,'__iter__') and len(jw)>0):\n",
    "            jw = [np.nan]\n",
    "        nl = len(jw) # length of window\n",
    "        xw = np.arange(-nl//2+1, nl//2+1)\n",
    "        if not labels[j]:\n",
    "            label = coef\n",
    "            labels[j] = 1\n",
    "        else:\n",
    "            label = ''\n",
    "        ax.plot(xw, jw, color=f'{hue}{ic}', label=label)\n",
    "ax.format(ylabel='coefficient (a or b)', xlabel='lag', title='Filter',\n",
    "          suptitle=f'order-{nl:d} {filt.title()} filter')\n",
    "ax.legend()"
   ]
  },
  {
   "cell_type": "markdown",
   "metadata": {},
   "source": [
    "## StackOverflow"
   ]
  },
  {
   "cell_type": "code",
   "execution_count": null,
   "metadata": {},
   "outputs": [],
   "source": [
    "# Example copied from: https://stackoverflow.com/a/12233959/4970632\n",
    "from scipy.signal import butter, lfilter\n",
    "import numpy as np\n",
    "import matplotlib.pyplot as plt\n",
    "from scipy.signal import freqz\n",
    "\n",
    "def butter_bandpass(lowcut, highcut, fs, order=5):\n",
    "    nyq = 0.5 * fs\n",
    "    low = lowcut / nyq\n",
    "    high = highcut / nyq\n",
    "    print('cutoffs in radians:', low,high)\n",
    "    b, a = butter(order, [low, high], btype='band')\n",
    "    print('coefficients:', b,a)\n",
    "    return b, a\n",
    "def butter_bandpass_filter(data, lowcut, highcut, fs, order=5):\n",
    "    b, a = butter_bandpass(lowcut, highcut, fs, order=order)\n",
    "    y = lfilter(b, a, data)\n",
    "    return y\n",
    "\n",
    "# Sample rate and desired cutoff frequencies (in Hz).\n",
    "fs = 5000.0 # sample rate i.e. seconds/timestep; cutoffs are in radians, convert by dividing by 2*sample_rate\n",
    "lowcut = 500.0 # in Hz apparently\n",
    "highcut = 1250.0\n",
    "\n",
    "# Plot the frequency response for a few different orders.\n",
    "plt.figure(1)\n",
    "plt.clf()\n",
    "for order in [3, 6, 9]:\n",
    "    b, a = butter_bandpass(lowcut, highcut, fs, order=order)\n",
    "    w, h = freqz(b, a, worN=2000)\n",
    "    plt.plot((fs * 0.5 / np.pi) * w, abs(h), label=\"order = %d\" % order)\n",
    "\n",
    "plt.plot([0, 0.5 * fs], [np.sqrt(0.5), np.sqrt(0.5)],\n",
    "         '--', label='sqrt(0.5)')\n",
    "plt.xlabel('Frequency (Hz)')\n",
    "plt.ylabel('Gain')\n",
    "plt.grid(True)\n",
    "plt.legend(loc='best')\n",
    "\n",
    "# Filter a noisy signal.\n",
    "T = 0.05\n",
    "nsamples = T * fs\n",
    "t = np.linspace(0, T, nsamples, endpoint=False)\n",
    "a = 0.02\n",
    "f0 = 600.0\n",
    "x = 0.1 * np.sin(2 * np.pi * 1.2 * np.sqrt(t))\n",
    "x += 0.01 * np.cos(2 * np.pi * 312 * t + 0.1)\n",
    "x += a * np.cos(2 * np.pi * f0 * t + .11) # seek this one\n",
    "x += 0.03 * np.cos(2 * np.pi * 2000 * t)\n",
    "plt.figure(2)\n",
    "plt.clf()\n",
    "plt.plot(t, x, label='Noisy signal')\n",
    "\n",
    "y = butter_bandpass_filter(x, lowcut, highcut, fs, order=6)\n",
    "plt.plot(t, y, label='Filtered signal (%g Hz)' % f0)\n",
    "plt.xlabel('time (seconds)')\n",
    "plt.hlines([-a, a], 0, T, linestyles='--')\n",
    "plt.grid(True)\n",
    "plt.axis('tight')\n",
    "plt.legend(loc='upper left')\n",
    "plt.show()"
   ]
  },
  {
   "cell_type": "markdown",
   "metadata": {},
   "source": [
    "## SciPy Docs"
   ]
  },
  {
   "cell_type": "code",
   "execution_count": null,
   "metadata": {},
   "outputs": [],
   "source": [
    "# Copied from scipy documentation\n",
    "from scipy import signal\n",
    "import matplotlib.pyplot as plt\n",
    "import numpy as np\n",
    "b, a = signal.butter(4, 100, 'low', analog=True)\n",
    "w, h = signal.freqs(b, a)\n",
    "plt.plot(w, 20 * np.log10(abs(h)))\n",
    "plt.xscale('log')\n",
    "plt.title('Butterworth filter frequency response')\n",
    "plt.xlabel('Frequency [radians / second]')\n",
    "plt.ylabel('Amplitude [dB]')\n",
    "plt.margins(0, 0.1)\n",
    "plt.grid(which='both', axis='both')\n",
    "plt.axvline(100, color='green') # cutoff frequency\n",
    "# plt.figure()\n",
    "# plt.plot(x, data)\n",
    "# plt.plot(x, signal.lfilter(b, a, data))"
   ]
  },
  {
   "cell_type": "markdown",
   "metadata": {},
   "source": [
    "# Power spectra"
   ]
  },
  {
   "cell_type": "markdown",
   "metadata": {},
   "source": [
    "## 1-D"
   ]
  },
  {
   "cell_type": "code",
   "execution_count": null,
   "metadata": {},
   "outputs": [],
   "source": [
    "x = np.linspace(0,100,10000) # 20 days\n",
    "dx = x[1]-x[0]\n",
    "# Data\n",
    "# waves = [0.1, 0.2, 0.4, 0.6, 0.8, 3, 4, 5, 10, 30]\n",
    "waves = [0.5, 1, 4]\n",
    "window = len(x)//3 # 3 windows, or *5* overlapping windows\n",
    "data = climpy.waves(x, waves, phase=None)\n",
    "\n",
    "# Spectrum\n",
    "# freq, power = climpy.power(data, dx, wintype=('gaussian',2000))\n",
    "# freq, power = climpy.power(data, dx, wintype='boxcar', nperseg=2000)\n",
    "freq, power = climpy.power(data, dx=dx, cyclic=False, manual=True, wintype='hann', nperseg=2000, scaling='spectrum')\n",
    "freq = 1/freq # to wavelengths\n",
    "\n",
    "# Figure\n",
    "f, axs = plot.subplots(nrows=2, aspect=2, hspace=0.8, width=4, sharex=False, spany=False, hratios=(1,.5))\n",
    "ax = axs[0]\n",
    "ax.plot(x, data, label='raw')\n",
    "ax.format(xlabel='x', ylabel='y', suptitle='Power spectra')\n",
    "ax = axs[1]\n",
    "\n",
    "# Plot\n",
    "wnums = np.array([10, 0.3])\n",
    "ax.plot(freq, power, label='power spectrum')\n",
    "ax.format(xlim=1/wnums, xlabel='wavelength (days)', ylabel='strength')\n",
    "var = data.var()\n",
    "ax.text(-0.05, 1.5, f'total variance: {var:.1f}', va='top', weight='bold', transform='axes')\n",
    "ax = ax.twiny()\n",
    "ax.format(xlim=wnums[::-1], xscale='inverse', xlabel='wavenum (1/days)')\n",
    "# ax.format(xlabel='wavelength (days)', ylabel='power (dB)', xscale='log', ylim=(-100,0))"
   ]
  },
  {
   "cell_type": "markdown",
   "metadata": {},
   "source": [
    "## 2-D"
   ]
  },
  {
   "cell_type": "code",
   "execution_count": null,
   "metadata": {},
   "outputs": [],
   "source": [
    "# Data\n",
    "n2 = 1800\n",
    "n1 = int(n2*0.25)\n",
    "n1 = int(n2*0.5)\n",
    "nperseg = 600\n",
    "x1 = np.linspace(0,5,n1) # cyclic dim\n",
    "x2 = np.linspace(0,5,n2) # non-cyclic dims\n",
    "offset = np.linspace(0,1.5*np.pi,n2)[::-1]\n",
    "w1 = [2]\n",
    "w2 = [5]\n",
    "d1 = climpy.waves(x1[:,None] + offset[None,:], w1)\n",
    "d2 = climpy.waves(x2[None,:], w2) # changing phase as we go up\n",
    "dx1 = x1[1]-x1[0]\n",
    "dx2 = x2[1]-x2[0]\n",
    "data = d1 + d2"
   ]
  },
  {
   "cell_type": "code",
   "execution_count": null,
   "metadata": {},
   "outputs": [],
   "source": [
    "# Note: -2 transform will be transform of *real* data (i.e. symmetric), so left-half taken, but -1 transform\n",
    "# will be transform of *complex* data, so both halves remain\n",
    "f1, f2, result = climpy.power2d(data, dx=dx1, dy=dx2, nperseg=nperseg, axes=(0,1))\n",
    "fig, axs = plot.subplots(nrows=2, aspect=2, width=5, sharex=False, spany=False, bottomcolorbar=True)\n",
    "# result = 10*np.log10(result)\n",
    "ax = axs[0]\n",
    "ax.contourf(x1, x2, data, cmap='sunset')\n",
    "ax.format(suptitle='2-D Transform, ClimPy', xlabel='x', ylabel='y')\n",
    "ax = axs[1]\n",
    "m = ax.contourf(f1, f2, result, cmap='sunset', levels=np.linspace(result.min(),result.max(),11))\n",
    "xl = 6\n",
    "ylim = (0, 6)\n",
    "ax.format(xlabel='x-wavenumber', ylabel='y-wavenumber', xlim=(-xl,xl), ylim=ylim)\n",
    "fig.bottompanel.colorbar(m, clabel='power (dB)')"
   ]
  },
  {
   "cell_type": "code",
   "execution_count": null,
   "metadata": {},
   "outputs": [],
   "source": [
    "# Note: -2 transform will be transform of *real* data (i.e. symmetric), so left-half taken, but -1 transform\n",
    "# will be transform of *complex* data, so both halves remain\n",
    "result = fft.rfft2(data, axes=(1,0)) # right-hand uses symmetric transform, left-hand not\n",
    "f2 = fft.fftfreq(data.shape[0])\n",
    "f1 = fft.rfftfreq(data.shape[1])\n",
    "result = np.abs(result)**2 # the power spectrum! that's it!\n",
    "f, axs = plot.subplots(nrows=2, aspect=2, sharex=False, spany=False)\n",
    "ax = axs[0]\n",
    "ax.contourf(x1, x2, data, cmap='hclBlue')\n",
    "ax.format(suptitle='2-D Transform')\n",
    "ax = axs[1]\n",
    "ax.contourf(f1, f2, result.T, cmap='hclBlue', levels=np.linspace(0,result.max(),11))\n",
    "xval = 0.005\n",
    "yval = 0.01\n",
    "formatter = plot.Formatter(precision=4)\n",
    "ax.format(xlim=(-xval,xval), ylim=(0,yval), xformatter=formatter, yformatter=formatter)"
   ]
  }
 ],
 "metadata": {
  "kernelspec": {
   "display_name": "Python 3",
   "language": "python",
   "name": "python3"
  },
  "language_info": {
   "codemirror_mode": {
    "name": "ipython",
    "version": 3
   },
   "file_extension": ".py",
   "mimetype": "text/x-python",
   "name": "python",
   "nbconvert_exporter": "python",
   "pygments_lexer": "ipython3",
   "version": "3.6.4"
  },
  "toc": {
   "colors": {
    "hover_highlight": "#ece260",
    "navigate_num": "#000000",
    "navigate_text": "#000000",
    "running_highlight": "#FF0000",
    "selected_highlight": "#fff968",
    "sidebar_border": "#ffffff",
    "wrapper_background": "#ffffff"
   },
   "moveMenuLeft": false,
   "nav_menu": {
    "height": "36px",
    "width": "250px"
   },
   "navigate_menu": true,
   "number_sections": true,
   "sideBar": true,
   "threshold": 4,
   "toc_cell": false,
   "toc_section_display": "block",
   "toc_window_display": true,
   "widenNotebook": false
  }
 },
 "nbformat": 4,
 "nbformat_minor": 2
}
